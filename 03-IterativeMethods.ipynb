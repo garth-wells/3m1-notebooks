{
 "cells": [
  {
   "cell_type": "markdown",
   "metadata": {},
   "source": [
    "# Iterative methods"
   ]
  },
  {
   "cell_type": "markdown",
   "metadata": {},
   "source": [
    "We explore in this notebook some iterative techniques for linear algebra problems. The implementations are written to expose how the methods work and are not optimised. Production-level implementations typically involve some specialised optimisations.\n",
    "\n",
    "This notebook illustrates:\n",
    "\n",
    "- Power iteration for eigenvalue problems\n",
    "- Stationary iterative methods\n",
    "- Conjugate gradient method"
   ]
  },
  {
   "cell_type": "code",
   "execution_count": 1,
   "metadata": {},
   "outputs": [],
   "source": [
    "import numpy as np"
   ]
  },
  {
   "cell_type": "markdown",
   "metadata": {},
   "source": [
    "## Power iteration with the Rayleigh quotient\n",
    "\n",
    "Define a complex matrix:"
   ]
  },
  {
   "cell_type": "code",
   "execution_count": 2,
   "metadata": {},
   "outputs": [
    {
     "name": "stdout",
     "output_type": "stream",
     "text": [
      "[[3.+1.j 4.-2.j 1.+0.j]\n",
      " [0.+0.j 0.+0.j 2.+0.j]\n",
      " [1.+0.j 2.+0.j 1.+0.j]]\n"
     ]
    }
   ],
   "source": [
    "A = np.array([[3 + 1j, 4 - 2j, 1], [0, 0, 2], [1, 2, 1]])\n",
    "print(A)"
   ]
  },
  {
   "cell_type": "markdown",
   "metadata": {},
   "source": [
    "Compute eigenvalues directly:"
   ]
  },
  {
   "cell_type": "code",
   "execution_count": 3,
   "metadata": {},
   "outputs": [
    {
     "name": "stdout",
     "output_type": "stream",
     "text": [
      "Exact evals: [ 4.16616079+0.30616886j  1.1450385 +1.07245406j -1.31119928-0.37862293j]\n"
     ]
    }
   ],
   "source": [
    "evals = np.linalg.eigvals(A)\n",
    "print(\"Exact evals: {}\".format(evals))"
   ]
  },
  {
   "cell_type": "markdown",
   "metadata": {},
   "source": [
    "Perform power iterartions for the non-symmetric case:"
   ]
  },
  {
   "cell_type": "code",
   "execution_count": 4,
   "metadata": {},
   "outputs": [
    {
     "name": "stdout",
     "output_type": "stream",
     "text": [
      "[1.+1.j 1.+1.j 1.+1.j]\n",
      "Eigen estimate: (4.411764705882353+0.4823529411764706j)\n",
      "  Error: 0.3022616678203168\n",
      "Eigen estimate: (4.274985215848611+0.44115907746895333j)\n",
      "  Error: 0.17339295024565304\n",
      "Eigen estimate: (4.149734671696183+0.36011124608400996j)\n",
      "  Error: 0.05638792535742782\n",
      "Eigen estimate: (4.154693679802965+0.32321630219933056j)\n",
      "  Error: 0.02054531005416526\n",
      "Eigen estimate: (4.157275770957634+0.3066270836230514j)\n",
      "  Error: 0.008896822530634651\n",
      "Eigen estimate: (4.163817844426+0.30491147522930784j)\n",
      "  Error: 0.0026590208161322605\n",
      "Eigen estimate: (4.165704995467151+0.30499886001330195j)\n",
      "  Error: 0.0012556459594053407\n",
      "Eigen estimate: (4.166308905876026+0.3058039481081458j)\n",
      "  Error: 0.0003938287015873419\n",
      "Eigen estimate: (4.166294270115598+0.30606988902622023j)\n",
      "  Error: 0.00016617337982193\n",
      "Eigen estimate: (4.1662199892726335+0.30617990019925745j)\n",
      "  Error: 6.022419077647963e-05\n"
     ]
    }
   ],
   "source": [
    "x0 = np.ones(3) + 1j*np.ones(3) \n",
    "print(x0)\n",
    "for i in range(10): \n",
    "    x0 = A.dot(x0)\n",
    "    x0/np.linalg.norm(x0, 1)\n",
    "    \n",
    "    eig_est = np.vdot(x0, A.dot(x0)) / np.vdot(x0, x0)\n",
    "    print(\"Eigen estimate: {}\".format(eig_est))\n",
    "    print(\"  Error: {}\".format(np.abs(eig_est - evals[0])))"
   ]
  },
  {
   "cell_type": "markdown",
   "metadata": {},
   "source": [
    "Now make the matrix Hermitian and perform power iterations:"
   ]
  },
  {
   "cell_type": "code",
   "execution_count": 5,
   "metadata": {},
   "outputs": [
    {
     "name": "stdout",
     "output_type": "stream",
     "text": [
      "[[3.+0.j 2.-1.j 1.+0.j]\n",
      " [2.+1.j 0.+0.j 2.+0.j]\n",
      " [1.+0.j 2.+0.j 1.+0.j]]\n",
      "Exact evals: [ 5.03522526-3.65300127e-18j  0.91602974+8.48629102e-17j\n",
      " -1.951255  -3.81829329e-17j]\n",
      "Eigen estimate: (5.014285714285714+0j)\n",
      "  Error: 0.020939545834771423\n",
      "Eigen estimate: (5.033371040723982+0j)\n",
      "  Error: 0.0018542193965034315\n",
      "Eigen estimate: (5.034989846696271+0j)\n",
      "  Error: 0.00023541342421484757\n",
      "Eigen estimate: (5.035191333401401+0j)\n",
      "  Error: 3.392671908475364e-05\n",
      "Eigen estimate: (5.035220212468097+0j)\n",
      "  Error: 5.047652388512347e-06\n",
      "Eigen estimate: (5.035224503664774+0j)\n",
      "  Error: 7.564557114037029e-07\n",
      "Eigen estimate: (5.035225146573403+0j)\n",
      "  Error: 1.1354708284727622e-07\n",
      "Eigen estimate: (5.035225243070554+0j)\n",
      "  Error: 1.704993124462817e-08\n",
      "Eigen estimate: (5.035225257560112+0j)\n",
      "  Error: 2.560373246751624e-09\n",
      "Eigen estimate: (5.03522525973599+0j)\n",
      "  Error: 3.84495990601863e-10\n"
     ]
    }
   ],
   "source": [
    "A = 0.5*(A + A.T.conjugate())\n",
    "print(A)\n",
    "\n",
    "evals = np.linalg.eigvals(A)\n",
    "print(\"Exact evals: {}\".format(evals))\n",
    "x0 = np.ones(3) + 1j*np.ones(3) \n",
    "for i in range(10): \n",
    "    x0 = A.dot(x0)\n",
    "    x0/np.linalg.norm(x0, 1)\n",
    "    \n",
    "    eig_est = np.vdot(x0, A.dot(x0)) / np.vdot(x0, x0)\n",
    "    print(\"Eigen estimate: {}\".format(eig_est))\n",
    "    print(\"  Error: {}\".format(np.abs(eig_est - evals[0])))"
   ]
  },
  {
   "cell_type": "markdown",
   "metadata": {},
   "source": [
    "## Matrix generators"
   ]
  },
  {
   "cell_type": "markdown",
   "metadata": {},
   "source": [
    "We will test some methods with two common matrices - the *stiffness matrix* and the *mass matrix*. Both are symmetric positive definite (SPD), but otherwise have very different properties. One matrix will be easy to solve using iterative methods, and one is much more challenging. To work with these matrices, we implement functions to help generate matrices of a given size."
   ]
  },
  {
   "cell_type": "markdown",
   "metadata": {},
   "source": [
    "### Stiffness matrix"
   ]
  },
  {
   "cell_type": "markdown",
   "metadata": {},
   "source": [
    "The stiffness matrix (this matrix comes up in the module 3D7) tends to arise in elliptic differential equations. We will start with a function to build a $n \\times n$ stiffness matrix:"
   ]
  },
  {
   "cell_type": "code",
   "execution_count": 6,
   "metadata": {},
   "outputs": [],
   "source": [
    "def create_stiffness_matrix(n):\n",
    "    \"Create a stiffness matrix of size n x n\"\n",
    "\n",
    "    # Create a zero matrix\n",
    "    A = np.zeros((n + 1, n + 1))\n",
    "\n",
    "    # Add components of small matrix k to A\n",
    "    k = np.array([[1.0, -1.0], [-1.0, 1.0]])\n",
    "    for i in range(len(A) - 1):\n",
    "        A[i:i+2, i:i+2] += k\n",
    "\n",
    "    # We will remove the last row and column of the matrix. This will\n",
    "    # make the matrix invetible (SPD)\n",
    "    A = np.delete(A, -1, 0)    \n",
    "    A = np.delete(A, -1, 1)   \n",
    "    return A"
   ]
  },
  {
   "cell_type": "markdown",
   "metadata": {},
   "source": [
    "### Mass matrix"
   ]
  },
  {
   "cell_type": "markdown",
   "metadata": {},
   "source": [
    "The second matrix we will look at is the mass matrix. It appears commonly in unsteady problems and when performing projections (least-squares fits of functions)."
   ]
  },
  {
   "cell_type": "code",
   "execution_count": 7,
   "metadata": {},
   "outputs": [],
   "source": [
    "def create_mass_matrix(n):\n",
    "    \"Create a mass matrix of size n x n\"\n",
    "    A = np.zeros((n, n))\n",
    "    m = np.array([[1.0/3.0, 1.0/6.0], [1.0/6.0, 1.0/3.0]])\n",
    "    for i in range(len(A) - 1):\n",
    "        A[i:i+2, i:i+2] += m\n",
    "    return A"
   ]
  },
  {
   "cell_type": "markdown",
   "metadata": {},
   "source": [
    "## Power iteration for the maximum eigenvalue"
   ]
  },
  {
   "cell_type": "markdown",
   "metadata": {},
   "source": [
    "A very simple algorithm that you have seen before in Part IB is *power iteration* for estimating the maximum (absolute) eigenvalue and corresponding eigenvector.\n",
    "\n",
    "To test power iterations, we will create a small stiffness matrix. The stiffness matrix has eigenvalues that are close, and which get closer for large $n$. To measure the error in the estimated eigenvalues and eigenvectors, we will first add a function to compute the maximum eigenpair of a matrix directly:"
   ]
  },
  {
   "cell_type": "code",
   "execution_count": 8,
   "metadata": {},
   "outputs": [],
   "source": [
    "def max_eigenpair(A, print_values=False):\n",
    "    \"Compute the eigenpair for the largest eigenvalue. Matrix A is assumed symmetric\"\n",
    "    \n",
    "    # Compute eigenpairs\n",
    "    evals, evecs = np.linalg.eig(A)\n",
    "\n",
    "    # Get index of largest absolute eigenvalue\n",
    "    index = np.argmax(np.abs(evals))\n",
    "\n",
    "    # Get largest eigenvalue and corresponding eigenvector\n",
    "    eval_max = evals[index]\n",
    "    evec_max = evecs[:, index]/np.linalg.norm(evecs[:, index])\n",
    "\n",
    "    if print_values:\n",
    "        print(\"  Largest eigenvalue:        {}\".format(eval_max))\n",
    "\n",
    "        # Get second largest eigenvalue to compare to largest\n",
    "        eval1 = evals[np.argsort(abs(evals))[-2]]\n",
    "        print(\"  Second largest eigenvalue: {}\".format(eval1))\n",
    "    \n",
    "    return eval_max, evec_max"
   ]
  },
  {
   "cell_type": "markdown",
   "metadata": {},
   "source": [
    "Computing the largest and second largest eigenvalues for $5 \\times 5$ and $20 \\times 20$ matrices, we see that they get closer as the matrix size increases:"
   ]
  },
  {
   "cell_type": "code",
   "execution_count": 9,
   "metadata": {},
   "outputs": [
    {
     "name": "stdout",
     "output_type": "stream",
     "text": [
      "Stiffness matrix 5 x 5:\n",
      "  Largest eigenvalue:        3.6825070656623606\n",
      "  Second largest eigenvalue: 2.8308300260037735\n",
      "Stiffness matrix 20 x 20:\n",
      "  Largest eigenvalue:        3.976560847560699\n",
      "  Second largest eigenvalue: 3.906792784109863\n"
     ]
    }
   ],
   "source": [
    "# Check largest and second eigenvalues of 5x5 stiffness matrix\n",
    "print(\"Stiffness matrix 5 x 5:\")\n",
    "max_eigenpair(create_stiffness_matrix(5), print_values=True);\n",
    "\n",
    "# Check largest and second eigenvalues of 10x10 stiffness matrix\n",
    "print(\"Stiffness matrix 20 x 20:\")\n",
    "max_eigenpair(create_stiffness_matrix(20), print_values=True);"
   ]
  },
  {
   "cell_type": "markdown",
   "metadata": {},
   "source": [
    "We will now apply power iteration to estimate the largest eigenvalue and corresponding eigenvalue. We know that convergence will be poor as the matrix size increases because the largest and second largest eigenvalues become a close, so we will test with the small $10 \\times 10$ matrix. \n",
    "\n",
    "We perform a power iteration with a random starting vector $\\boldsymbol{u}_{0}$ and 10 iterations. At each iteration we compare the error in the eigenvalue estimated by \n",
    "\n",
    "- Scaling of the solution from one iterate to the next; and \n",
    "- Rayleigh quotient $R = \\boldsymbol{x}^{T} \\boldsymbol{A} \\boldsymbol{x}/(\\boldsymbol{x}^{T} \\boldsymbol{x})$\n",
    "\n",
    "We also compute the error in eigenvector as $\\| \\boldsymbol{u}_{\\text{exact}} - \\boldsymbol{u}_{k} \\|_{2}$, where $\\boldsymbol{u}_{k}$ is the estimate of the eigenvector at the $k$th iterate."
   ]
  },
  {
   "cell_type": "code",
   "execution_count": 10,
   "metadata": {},
   "outputs": [
    {
     "name": "stdout",
     "output_type": "stream",
     "text": [
      "Step: 0\n",
      "  Relative errors\n",
      "    lambda (scaling):  1.3846461170031097\n",
      "    lambda (Rayleigh): 0.24789749264192776\n",
      "    u (l2):            0.8938636048884409\n",
      "Step: 1\n",
      "  Relative errors\n",
      "    lambda (scaling):  0.18763883877591994\n",
      "    lambda (Rayleigh): 0.11066172928531519\n",
      "    u (l2):            0.6957399551984798\n",
      "Step: 2\n",
      "  Relative errors\n",
      "    lambda (scaling):  1.1171838683294228\n",
      "    lambda (Rayleigh): 0.05589080104444387\n",
      "    u (l2):            0.5718890915883966\n",
      "Step: 3\n",
      "  Relative errors\n",
      "    lambda (scaling):  0.08024176314636654\n",
      "    lambda (Rayleigh): 0.0338304270081411\n",
      "    u (l2):            0.49019067158071883\n",
      "Step: 4\n",
      "  Relative errors\n",
      "    lambda (scaling):  0.001532814440000131\n",
      "    lambda (Rayleigh): 0.022882330375569766\n",
      "    u (l2):            0.4296022419855424\n",
      "Step: 5\n",
      "  Relative errors\n",
      "    lambda (scaling):  0.01664529352498069\n",
      "    lambda (Rayleigh): 0.016410042012238082\n",
      "    u (l2):            0.38139828601289727\n",
      "Step: 6\n",
      "  Relative errors\n",
      "    lambda (scaling):  0.019597524593251862\n",
      "    lambda (Rayleigh): 0.012185475274593021\n",
      "    u (l2):            0.34167635904323773\n",
      "Step: 7\n",
      "  Relative errors\n",
      "    lambda (scaling):  0.018849461794162824\n",
      "    lambda (Rayleigh): 0.009274660485905972\n",
      "    u (l2):            0.3082813158620964\n",
      "Step: 8\n",
      "  Relative errors\n",
      "    lambda (scaling):  0.016774926604069186\n",
      "    lambda (Rayleigh): 0.007200475054899241\n",
      "    u (l2):            0.2798055808285223\n",
      "Step: 9\n",
      "  Relative errors\n",
      "    lambda (scaling):  0.014296221565264057\n",
      "    lambda (Rayleigh): 0.005685894387366044\n",
      "    u (l2):            0.25523957285309967\n"
     ]
    }
   ],
   "source": [
    "# Create 10x10 matrix\n",
    "A = create_stiffness_matrix(10)\n",
    "\n",
    "# Get exact eigenpair to compute errors\n",
    "lambda_max, u_max = max_eigenpair(A)\n",
    "\n",
    "# Create random starting vector and normalise\n",
    "np.random.seed(3)\n",
    "u0 = np.random.rand(A.shape[1])\n",
    "u0 = u0/np.linalg.norm(u0)\n",
    "\n",
    "# Perform power iteration\n",
    "for k in range(10):\n",
    "    print(\"Step: {}\".format(k))\n",
    "\n",
    "    # Compute u_{k+1} = A u_{k}\n",
    "    u1 = A.dot(u0)\n",
    "\n",
    "    # Estimate eigenvalue (from scaling of each entry and by Rayleigh quotient)\n",
    "    lambda_est   = np.divide(u1, u0)\n",
    "    rayleigh_est = u1.dot(A.dot(u1))/(u1.dot(u1))\n",
    "\n",
    "    # Normalise estimated eigenvector and assign to u0\n",
    "    u0 = u1/np.linalg.norm(u1)\n",
    "\n",
    "    # Print errors in eigenvalue\n",
    "    print(\"  Relative errors\")    \n",
    "    print(\"    lambda (scaling):  {}\".format(np.abs(lambda_max - np.average(lambda_est))/lambda_max))    \n",
    "    print(\"    lambda (Rayleigh): {}\".format(np.abs(lambda_max - rayleigh_est)/lambda_max))    \n",
    "\n",
    "    # Get signs on eigenvectors (could be pointing in opposite directions) and print error\n",
    "    dir0, dir_est = abs(u_max[0])/u_max[0], abs(u0[0])/u0[0]\n",
    "    print(\"    u (l2):            {}\".format(np.linalg.norm(dir0*u_max - dir_est*u0)))"
   ]
  },
  {
   "cell_type": "markdown",
   "metadata": {},
   "source": [
    "Some observations:\n",
    "\n",
    "- The first observation is that the method is slow to converge. It will take close to 100 iterations to get a good estimate of the eigenvector.\n",
    "- The error in the estimate of the largest eigenvalue via the Rayleigh quotient decreases monotonically.\n",
    "- For a given error in the estimated eigenvector, the error in the estimated eigenvalue via the Rayleigh quotient is much smaller."
   ]
  },
  {
   "cell_type": "markdown",
   "metadata": {},
   "source": [
    "## Stationary iterative methods for $\\boldsymbol{A} \\boldsymbol{x} = \\boldsymbol{b}$"
   ]
  },
  {
   "cell_type": "markdown",
   "metadata": {},
   "source": [
    "We now look at methods for the very important problem of finding (approximate) solutions to $\\boldsymbol{A} \\boldsymbol{x} = \\boldsymbol{b}$. We looks first at simple stationary methods, and then the more elaborate conjugate gradient method."
   ]
  },
  {
   "cell_type": "markdown",
   "metadata": {},
   "source": [
    "### Stationary methods"
   ]
  },
  {
   "cell_type": "markdown",
   "metadata": {},
   "source": [
    "We consider methods that involve splitting $\\boldsymbol{A}$ such that $\\boldsymbol{A} = \\boldsymbol{N} - \\boldsymbol{P}$, and then solving\n",
    "\n",
    "$$\n",
    "\\boldsymbol{x}_{k+1} = \\boldsymbol{N}^{-1} \\left(\\boldsymbol{b} \n",
    "+ \\boldsymbol{P}\\boldsymbol{x}_{k} \\right)\n",
    "$$\n",
    "\n",
    "We assume that $\\boldsymbol{A}$ is hard/expensive to solve, and it is split such that $\\boldsymbol{N}$ is easy/cheap to solve. We will experiment with the Jacobi and Gauss-Seidel methods."
   ]
  },
  {
   "cell_type": "markdown",
   "metadata": {},
   "source": [
    "#### Jacobi method"
   ]
  },
  {
   "cell_type": "markdown",
   "metadata": {},
   "source": [
    "A very simple method is the Jacobi method, in which $\\boldsymbol{N} = \\text{diag}(\\boldsymbol{A})$ and which is trivial to invert. The method becomes: "
   ]
  },
  {
   "cell_type": "markdown",
   "metadata": {},
   "source": [
    "$$\n",
    "\\boldsymbol{x}_{k+1} = \\text{diag}(\\boldsymbol{A})^{-1} \\boldsymbol{b} \n",
    "+ (\\boldsymbol{I} - \\text{diag}(\\boldsymbol{A})^{-1} \\boldsymbol{A}) \\boldsymbol{x}_{k}\n",
    "$$\n",
    "\n",
    "We will test first with a  $50 \\times 50$ stiffness matrix."
   ]
  },
  {
   "cell_type": "code",
   "execution_count": 11,
   "metadata": {},
   "outputs": [],
   "source": [
    "A = create_stiffness_matrix(50)"
   ]
  },
  {
   "cell_type": "markdown",
   "metadata": {},
   "source": [
    "To implement the Jacobi method, we first create the $\\boldsymbol{N} = \\boldsymbol{D} = \\text{diag}(\\boldsymbol{A})$ matrix and its inverse: "
   ]
  },
  {
   "cell_type": "code",
   "execution_count": 12,
   "metadata": {},
   "outputs": [],
   "source": [
    "D = np.diag(np.diag(A))\n",
    "Dinv = np.diag(1.0/np.diag(A))"
   ]
  },
  {
   "cell_type": "markdown",
   "metadata": {},
   "source": [
    "We have seen in the lectures that the stationary methods will only converge if \n",
    "$\\rho(\\boldsymbol{N}^{-1} \\boldsymbol{P}) < 1$, where $\\rho$ is the spectral radius (recall that spectral radius of a matrix is the largest absolute eigenvalue). Let's compute the spectral radius for this problem:"
   ]
  },
  {
   "cell_type": "code",
   "execution_count": 13,
   "metadata": {},
   "outputs": [
    {
     "name": "stdout",
     "output_type": "stream",
     "text": [
      "Spectral radius (rho) is: 0.999506560365731\n"
     ]
    }
   ],
   "source": [
    "N = D\n",
    "P = N - A\n",
    "evals = np.linalg.eigvals(Dinv.dot(P))\n",
    "print(\"Spectral radius (rho) is: {}\".format(np.max(abs(evals))))"
   ]
  },
  {
   "cell_type": "markdown",
   "metadata": {},
   "source": [
    "The largest eigenvalue is less that one (only just!), so we can expect the Jacobi method to converge. However, it is close to one so we expect the convergence to be slow. \n",
    "\n",
    "**Experiment:** compare the spectral radius for different size matrices.\n",
    "\n",
    "Let's try solving $\\boldsymbol{A} \\boldsymbol{x} = \\boldsymbol{b}$ with Jacobi's method using 15 iterations and with $\\boldsymbol{b} = \\boldsymbol{1}$:"
   ]
  },
  {
   "cell_type": "code",
   "execution_count": 14,
   "metadata": {},
   "outputs": [
    {
     "name": "stdout",
     "output_type": "stream",
     "text": [
      "Step: 1, relative norm of residual (l2): 0.9974968671630001\n",
      "Step: 2, relative norm of residual (l2): 0.9893179468704688\n",
      "Step: 3, relative norm of residual (l2): 0.9886859966642594\n",
      "Step: 4, relative norm of residual (l2): 0.983258295159517\n",
      "Step: 5, relative norm of residual (l2): 0.982741700550048\n",
      "Step: 6, relative norm of residual (l2): 0.9783895409038262\n",
      "Step: 7, relative norm of residual (l2): 0.9779302921220918\n",
      "Step: 8, relative norm of residual (l2): 0.9741919666025627\n",
      "Step: 9, relative norm of residual (l2): 0.9737713236793906\n",
      "Step: 10, relative norm of residual (l2): 0.9704418741121353\n",
      "Step: 11, relative norm of residual (l2): 0.9700501214675351\n",
      "Step: 12, relative norm of residual (l2): 0.9670176688180705\n",
      "Step: 13, relative norm of residual (l2): 0.9666487837375989\n",
      "Step: 14, relative norm of residual (l2): 0.9638444533367624\n",
      "Step: 15, relative norm of residual (l2): 0.9634943337370382\n"
     ]
    }
   ],
   "source": [
    "I = np.identity(A.shape[0])\n",
    "b = np.ones(A.shape[1])\n",
    "x = np.zeros(A.shape[1])\n",
    "r0_norm = np.linalg.norm(b - A.dot(x), 2)\n",
    "for k in range(15):\n",
    "    x = Dinv.dot(b) + (I - Dinv.dot(A)).dot(x)\n",
    "    r = b - A.dot(x)\n",
    "    print(\"Step: {}, relative norm of residual (l2): {}\".format(k + 1, np.linalg.norm(r, 2)/r0_norm))"
   ]
  },
  {
   "cell_type": "markdown",
   "metadata": {},
   "source": [
    "We can see that the residual is decreasing, but extremely slowly. This is to be expected because $\\rho(\\boldsymbol{N}^{-1} \\boldsymbol{P})$ is very close to one.\n",
    "\n",
    "We now try with the mass matrix. For this we collect the above steps in a function, and then call the function for a $50 \\times 50$ mass matrix."
   ]
  },
  {
   "cell_type": "code",
   "execution_count": 15,
   "metadata": {},
   "outputs": [
    {
     "name": "stdout",
     "output_type": "stream",
     "text": [
      "Spectral radius (rho) is: 0.5000000000000008\n",
      "  Step: 1, relative norm of residual (l2): 0.5049752469181039\n",
      "  Step: 2, relative norm of residual (l2): 0.25062422069704277\n",
      "  Step: 3, relative norm of residual (l2): 0.1260115322103497\n",
      "  Step: 4, relative norm of residual (l2): 0.06270474276819099\n",
      "  Step: 5, relative norm of residual (l2): 0.03148229095149664\n",
      "  Step: 6, relative norm of residual (l2): 0.015681811999896492\n",
      "  Step: 7, relative norm of residual (l2): 0.007867732312336664\n",
      "  Step: 8, relative norm of residual (l2): 0.003921281978712691\n",
      "  Step: 9, relative norm of residual (l2): 0.001966467523415862\n",
      "  Step: 10, relative norm of residual (l2): 0.0009804592395103694\n",
      "  Step: 11, relative norm of residual (l2): 0.0004915330591380955\n",
      "  Step: 12, relative norm of residual (l2): 0.00024513992219384056\n",
      "  Step: 13, relative norm of residual (l2): 0.00012286724847633643\n",
      "  Step: 14, relative norm of residual (l2): 6.128977282684386e-05\n",
      "  Step: 15, relative norm of residual (l2): 3.0713623368082544e-05\n"
     ]
    }
   ],
   "source": [
    "def jacobi_solver(A):\n",
    "    N = np.diag(np.diag(A))\n",
    "    Dinv = np.diag(1.0/np.diag(A))    \n",
    "    P = N - A\n",
    "    evals = np.linalg.eigvals(Dinv.dot(P))\n",
    "    print(\"Spectral radius (rho) is: {}\".format(np.max(abs(evals))))\n",
    "    \n",
    "    I = np.identity(A.shape[0])\n",
    "\n",
    "    b = np.ones(A.shape[1])\n",
    "    x = np.zeros(A.shape[1])\n",
    "    r0_norm = np.linalg.norm(b - A.dot(x), 2)\n",
    "    for k in range(15):\n",
    "        x = Dinv.dot(b) + (I - Dinv.dot(A)).dot(x)\n",
    "        r = b - A.dot(x)\n",
    "        print(\"  Step: {}, relative norm of residual (l2): {}\".format(k + 1, np.linalg.norm(r, 2)/r0_norm))\n",
    "        \n",
    "jacobi_solver(create_mass_matrix(50) )        "
   ]
  },
  {
   "cell_type": "markdown",
   "metadata": {},
   "source": [
    "The spectral radius is considerably small than one and much smaller than it was for the stiffness matrix, which is then evident in the much faster convergence."
   ]
  },
  {
   "cell_type": "markdown",
   "metadata": {},
   "source": [
    "#### Gauss-Seidel"
   ]
  },
  {
   "cell_type": "markdown",
   "metadata": {},
   "source": [
    "For the Gauss-Seidel, method, $\\boldsymbol{N}$ is the lower triangular part of $\\boldsymbol{A}$ and $\\boldsymbol{P}$ is the strictly upper triangular part of $\\boldsymbol{A}$ ($\\boldsymbol{P}$ is zero on the diagonal). Solving  $\\boldsymbol{N} \\boldsymbol{y} = \\boldsymbol{f}$ is then analogous to the forward substitution step in a LU solver.\n",
    "\n",
    "From the general expression for a stationary method, we multiply both sides by $\\boldsymbol{N}$:\n",
    "\n",
    "$$\n",
    "\\boldsymbol{N} \\boldsymbol{x}_{k+1} = \\boldsymbol{b} + \\boldsymbol{P}\\boldsymbol{x}_{k}\n",
    "$$\n",
    "\n",
    "We will solve our problem using this formulation. We create a $50 \\times 50$ stiffness matrix, and then form the \n",
    "$\\boldsymbol{N}$ and $\\boldsymbol{P}$ matrices: "
   ]
  },
  {
   "cell_type": "code",
   "execution_count": 16,
   "metadata": {},
   "outputs": [],
   "source": [
    "# Create etiffness matrix\n",
    "A = create_stiffness_matrix(50)\n",
    "\n",
    "# Form lower-triangular part of A\n",
    "N = np.tril(A)\n",
    "\n",
    "# Form P\n",
    "P = N - A"
   ]
  },
  {
   "cell_type": "markdown",
   "metadata": {},
   "source": [
    "We now check the spectral radius for stiffness matrix and the Gauss-Seidel method:"
   ]
  },
  {
   "cell_type": "code",
   "execution_count": 17,
   "metadata": {},
   "outputs": [
    {
     "name": "stdout",
     "output_type": "stream",
     "text": [
      "Largest eigenvalue (rho) is: 0.9990133642141382\n"
     ]
    }
   ],
   "source": [
    "evals = np.linalg.eigvals(np.linalg.inv(N).dot(P))\n",
    "print(\"Largest eigenvalue (rho) is: {}\".format(np.max(abs(evals))))"
   ]
  },
  {
   "cell_type": "markdown",
   "metadata": {},
   "source": [
    "The spectral radius is very slightly smaller that for the Jacobi case, but still very close to one so we cannot expect good convergence.\n",
    "\n",
    "Now the solver. We write a function to perform 15 Gauss-Seidel iterations, using SciPy for the forward substitution step involving $\\boldsymbol{N}$:"
   ]
  },
  {
   "cell_type": "code",
   "execution_count": 18,
   "metadata": {},
   "outputs": [],
   "source": [
    "import scipy.linalg as LA\n",
    "\n",
    "def gauss_seidel_solver(A):\n",
    "    \"Compute spectral radius and perform 15 Gauss-Seidel iterations\"\n",
    "    N = np.tril(A)\n",
    "    P = N - A\n",
    "\n",
    "    evals = np.linalg.eigvals(np.linalg.inv(N).dot(P))\n",
    "    print(\"Largest eigenvalue (rho) is: {}\".format(np.max(abs(evals))))\n",
    "    \n",
    "    b = np.ones(A.shape[1])\n",
    "    x = np.zeros(A.shape[1])\n",
    "    r0_norm = np.linalg.norm(b - A.dot(x), 2)\n",
    "    for k in range(15):\n",
    "        c = b + P.dot(x)\n",
    "        x = LA.solve_triangular(N, c, lower=True)\n",
    "\n",
    "        # Compute residual to monitor convergence\n",
    "        r = b - A.dot(x)\n",
    "        print(\"Step: {}, relative norm of residual (l2): {}\".format(k + 1, np.linalg.norm(r, 2)/r0_norm))"
   ]
  },
  {
   "cell_type": "markdown",
   "metadata": {},
   "source": [
    "Calling the function for a $50 \\times 50$ stiffness matrix:"
   ]
  },
  {
   "cell_type": "code",
   "execution_count": 19,
   "metadata": {},
   "outputs": [
    {
     "name": "stdout",
     "output_type": "stream",
     "text": [
      "Largest eigenvalue (rho) is: 0.9990133642141382\n",
      "Step: 1, relative norm of residual (l2): 0.9899494936611665\n",
      "Step: 2, relative norm of residual (l2): 0.982344135219425\n",
      "Step: 3, relative norm of residual (l2): 0.9767612297793151\n",
      "Step: 4, relative norm of residual (l2): 0.9721512870947607\n",
      "Step: 5, relative norm of residual (l2): 0.9681229069134895\n",
      "Step: 6, relative norm of residual (l2): 0.9644930726589129\n",
      "Step: 7, relative norm of residual (l2): 0.9611590370425309\n",
      "Step: 8, relative norm of residual (l2): 0.9580560147508117\n",
      "Step: 9, relative norm of residual (l2): 0.9551399401005148\n",
      "Step: 10, relative norm of residual (l2): 0.9523791996623238\n",
      "Step: 11, relative norm of residual (l2): 0.949750191687984\n",
      "Step: 12, relative norm of residual (l2): 0.9472347395577747\n",
      "Step: 13, relative norm of residual (l2): 0.9448184904859701\n",
      "Step: 14, relative norm of residual (l2): 0.9424898755792793\n",
      "Step: 15, relative norm of residual (l2): 0.9402394077309429\n"
     ]
    }
   ],
   "source": [
    "gauss_seidel_solver(create_stiffness_matrix(50))"
   ]
  },
  {
   "cell_type": "markdown",
   "metadata": {},
   "source": [
    "We can see from the decrease in the residual that the Gauss-Seidel method converges somewhat faster than the Jacobi method, but it is still far too slow to be of any practical use on its own.\n",
    "\n",
    "As for the Jacobi method, we will collect the above steps in sude a function and test for the $50\\times 50$ mass matrix."
   ]
  },
  {
   "cell_type": "code",
   "execution_count": 20,
   "metadata": {},
   "outputs": [
    {
     "name": "stdout",
     "output_type": "stream",
     "text": [
      "Largest eigenvalue (rho) is: 0.2500000000000001\n",
      "  Step: 1, relative norm of residual (l2): 0.2030763403255042\n",
      "  Step: 2, relative norm of residual (l2): 0.041281250788544034\n",
      "  Step: 3, relative norm of residual (l2): 0.00856896620705433\n",
      "  Step: 4, relative norm of residual (l2): 0.0018943431293235791\n",
      "  Step: 5, relative norm of residual (l2): 0.0004564612202658408\n",
      "  Step: 6, relative norm of residual (l2): 0.00012302038631756043\n",
      "  Step: 7, relative norm of residual (l2): 3.6060566498582e-05\n",
      "  Step: 8, relative norm of residual (l2): 1.115328745561849e-05\n",
      "  Step: 9, relative norm of residual (l2): 3.53875250774091e-06\n",
      "  Step: 10, relative norm of residual (l2): 1.1378279383703347e-06\n",
      "  Step: 11, relative norm of residual (l2): 3.6826016060463953e-07\n",
      "  Step: 12, relative norm of residual (l2): 1.1967638559529736e-07\n",
      "  Step: 13, relative norm of residual (l2): 3.899625170024721e-08\n",
      "  Step: 14, relative norm of residual (l2): 1.2732978968525341e-08\n",
      "  Step: 15, relative norm of residual (l2): 4.164335756159928e-09\n"
     ]
    }
   ],
   "source": [
    "def gauss_seidel_solver(A):\n",
    "    \"Compute spectral radius and perform 15 Gauss-Seidel iterations\"\n",
    "    N = np.tril(A)\n",
    "    P = N - A\n",
    "\n",
    "    evals = np.linalg.eigvals(np.linalg.inv(N).dot(P))\n",
    "    print(\"Largest eigenvalue (rho) is: {}\".format(np.max(abs(evals))))\n",
    "    \n",
    "    b = np.ones(A.shape[1])\n",
    "    x = np.zeros(A.shape[1])\n",
    "    r0_norm = np.linalg.norm(b - A.dot(x), 2)\n",
    "    for k in range(15):\n",
    "        c = b + P.dot(x)\n",
    "        x = LA.solve_triangular(N, c, lower=True)\n",
    "\n",
    "        # Compute residual to monitor convergence\n",
    "        r = b - A.dot(x)\n",
    "        print(\"  Step: {}, relative norm of residual (l2): {}\".format(k + 1, np.linalg.norm(r, 2)/r0_norm))\n",
    "\n",
    "gauss_seidel_solver(create_mass_matrix(50))"
   ]
  },
  {
   "cell_type": "markdown",
   "metadata": {},
   "source": [
    "The spectral radius is only half that for the Jacobi method, and this is manifest in the faster observed convergence."
   ]
  },
  {
   "cell_type": "markdown",
   "metadata": {},
   "source": [
    "#### Applications of stationary methods"
   ]
  },
  {
   "cell_type": "markdown",
   "metadata": {},
   "source": [
    "Stationary methods are of limited use of their own as they tend to converge very slowly. For matrices that they do work well for, e.g. mass matrix, there are other iterative methods that are faster.\n",
    "\n",
    "Stationary methods are however very useful in combination with other methods, e.g. as preconditioners in more sophisticated iterative methods and as 'smoothers' in multigrid methods."
   ]
  },
  {
   "cell_type": "markdown",
   "metadata": {},
   "source": [
    "### Conjugate gradient method for $\\boldsymbol{A} \\boldsymbol{x} = \\boldsymbol{b}$"
   ]
  },
  {
   "cell_type": "markdown",
   "metadata": {},
   "source": [
    "We now look at one of the most important algorithms for solving $\\boldsymbol{A} \\boldsymbol{x} = \\boldsymbol{b}$, the conjugate gradient (CG) method. The CG method is applicable to symmetric positive-definite (SPD) matrices.\n",
    "\n",
    "The CG method is technically a direct method since in exact arithmetic is solves an $n \\times n$ system in $k$ iterations, where $k$ is the number of distinct eigenvalues of $\\boldsymbol{A}$. In the worst case (all eigenvalues are distinct) it requires $n$ iterations.\n",
    "\n",
    "In practice, the CG method is used as an iterative method to find approximate solutions. If solving an $n \\times n$ system required $n$ steps it would generally not be competitive with other methods, and round-off error can spoil the party. \n",
    "\n",
    "The error in the CG method decreases monotonically in the energy norm, i.e. if $\\boldsymbol{x}$ is the exact solution then:\n",
    "\n",
    "$$\n",
    "(\\boldsymbol{x} - \\boldsymbol{x}_{k+1})^{T} \\boldsymbol{A} (\\boldsymbol{x} - \\boldsymbol{x}_{k+1}) < \n",
    "(\\boldsymbol{x} - \\boldsymbol{x}_{k})^{T} \\boldsymbol{A} (\\boldsymbol{x} - \\boldsymbol{x}_{k}) \n",
    "$$\n",
    "\n",
    "This implies that if we stop iterating before the residual is (almost) zero, we will have a better solution than we started with.\n",
    "\n",
    "Below we create below a function for the conjugate gradient (CG) method. It will also solve the system directly so we can compare the error at each iteration (this would of course not be done in practice, but we do it here to illustrate some properties of the CG method). The function will perform a maximum of 200 iterations, but will exist sooner if the residual is very small."
   ]
  },
  {
   "cell_type": "code",
   "execution_count": 21,
   "metadata": {},
   "outputs": [],
   "source": [
    "def cg(A):\n",
    "    \"Conjugate gradient solver\"\n",
    "    \n",
    "    # RHS vector\n",
    "    b = np.ones(A.shape[1])\n",
    "\n",
    "    # Initial guess (zero vector)\n",
    "    x0 = np.zeros(A.shape[1])\n",
    "\n",
    "    # Compute exact solution (to use in computing error at each iterate)\n",
    "    x_exact = np.linalg.solve(A, b)\n",
    "    e = x_exact - x0\n",
    "    e0_norm = np.sqrt(e.dot(A.dot(e)))\n",
    "    print(\"Initial error (A-norm): {}\".format(e.dot(A.dot(e)))) \n",
    "\n",
    "    # Convergence tolerance to exit solver\n",
    "    tolerance = 1.0e-9\n",
    "\n",
    "    # Create starting vectors\n",
    "    r0 = b - A.dot(x0)\n",
    "    r0_norm = np.linalg.norm(r0)\n",
    "    p0 = r0.copy()\n",
    "\n",
    "    # Start iterations    \n",
    "    for k in range(200):\n",
    "        print(\"Step: {}\".format(k))\n",
    "\n",
    "        alpha = r0.dot(r0)/(p0.dot(A.dot(p0)))\n",
    "        x1 = x0 + alpha*p0\n",
    "        r1 = r0 - alpha*A.dot(p0)\n",
    "\n",
    "        # Compute error in x (this is for studying the algorithm, and of \n",
    "        # course would not be done in practice)\n",
    "        e = x_exact - x1\n",
    "        e_norm = np.sqrt(e.dot(A.dot(e)))\n",
    "        print(\"  Relative error in x (A-norm): {}\".format(e_norm/e0_norm)) \n",
    "    \n",
    "        # Compute norm of residual and check for converge\n",
    "        r_norm = np.linalg.norm(r1) \n",
    "        print(\"  Relative residual (l2-norm):  {}\".format(r_norm/r0_norm)) \n",
    "        if r_norm < tolerance:\n",
    "            break\n",
    "\n",
    "        beta = r1.dot(r1)/r0.dot(r0)\n",
    "        p1 = r1 + beta*p0    \n",
    "    \n",
    "        # Update for next step\n",
    "        p0, r0, x0 = p1, r1, x1"
   ]
  },
  {
   "cell_type": "markdown",
   "metadata": {},
   "source": [
    "Below we solve the $50 \\times 50$ stiffness matrix problem with the conjugate gradient method. The iterations terminate once the residual drops below a specified threshold. The solver prints at each iteration the relative error in the solution in the $\\boldsymbol{A}$-norm and the relative residual in the $l_{2}$ norm."
   ]
  },
  {
   "cell_type": "code",
   "execution_count": 22,
   "metadata": {},
   "outputs": [
    {
     "name": "stdout",
     "output_type": "stream",
     "text": [
      "Initial error (A-norm): 42925.0\n",
      "Step: 0\n",
      "  Relative error in x (A-norm): 0.9704426215756036\n",
      "  Relative residual (l2-norm):  7.0\n",
      "Step: 1\n",
      "  Relative error in x (A-norm): 0.9411822946820383\n",
      "  Relative residual (l2-norm):  6.858571279792899\n",
      "Step: 2\n",
      "  Relative error in x (A-norm): 0.9122220657617681\n",
      "  Relative residual (l2-norm):  6.717142249498665\n",
      "Step: 3\n",
      "  Relative error in x (A-norm): 0.883565076944029\n",
      "  Relative residual (l2-norm):  6.575712889109439\n",
      "Step: 4\n",
      "  Relative error in x (A-norm): 0.8552145711607609\n",
      "  Relative residual (l2-norm):  6.434283176858164\n",
      "Step: 5\n",
      "  Relative error in x (A-norm): 0.8271738976538208\n",
      "  Relative residual (l2-norm):  6.292853089020909\n",
      "Step: 6\n",
      "  Relative error in x (A-norm): 0.799446517912807\n",
      "  Relative residual (l2-norm):  6.151422599691879\n",
      "Step: 7\n",
      "  Relative error in x (A-norm): 0.7720360120877756\n",
      "  Relative residual (l2-norm):  6.009991680526688\n",
      "Step: 8\n",
      "  Relative error in x (A-norm): 0.7449460859268152\n",
      "  Relative residual (l2-norm):  5.868560300448483\n",
      "Step: 9\n",
      "  Relative error in x (A-norm): 0.7181805782950318\n",
      "  Relative residual (l2-norm):  5.727128425310541\n",
      "Step: 10\n",
      "  Relative error in x (A-norm): 0.6917434693391226\n",
      "  Relative residual (l2-norm):  5.585696017507576\n",
      "Step: 11\n",
      "  Relative error in x (A-norm): 0.6656388893705926\n",
      "  Relative residual (l2-norm):  5.444263035526479\n",
      "Step: 12\n",
      "  Relative error in x (A-norm): 0.6398711285510341\n",
      "  Relative residual (l2-norm):  5.302829433425141\n",
      "Step: 13\n",
      "  Relative error in x (A-norm): 0.614444647475032\n",
      "  Relative residual (l2-norm):  5.161395160225576\n",
      "Step: 14\n",
      "  Relative error in x (A-norm): 0.5893640887605548\n",
      "  Relative residual (l2-norm):  5.019960159204453\n",
      "Step: 15\n",
      "  Relative error in x (A-norm): 0.5646342897735833\n",
      "  Relative residual (l2-norm):  4.878524367060186\n",
      "Step: 16\n",
      "  Relative error in x (A-norm): 0.5402602966337725\n",
      "  Relative residual (l2-norm):  4.737087712930804\n",
      "Step: 17\n",
      "  Relative error in x (A-norm): 0.5162473796718534\n",
      "  Relative residual (l2-norm):  4.595650117230423\n",
      "Step: 18\n",
      "  Relative error in x (A-norm): 0.4926010505381244\n",
      "  Relative residual (l2-norm):  4.454211490264018\n",
      "Step: 19\n",
      "  Relative error in x (A-norm): 0.46932708119589217\n",
      "  Relative residual (l2-norm):  4.3127717305695645\n",
      "Step: 20\n",
      "  Relative error in x (A-norm): 0.4464315250755107\n",
      "  Relative residual (l2-norm):  4.171330722922842\n",
      "Step: 21\n",
      "  Relative error in x (A-norm): 0.4239207407155879\n",
      "  Relative residual (l2-norm):  4.029888335921976\n",
      "Step: 22\n",
      "  Relative error in x (A-norm): 0.4018014182803376\n",
      "  Relative residual (l2-norm):  3.888444419044716\n",
      "Step: 23\n",
      "  Relative error in x (A-norm): 0.38008060941907756\n",
      "  Relative residual (l2-norm):  3.7469987990390385\n",
      "Step: 24\n",
      "  Relative error in x (A-norm): 0.358765761029573\n",
      "  Relative residual (l2-norm):  3.605551275463989\n",
      "Step: 25\n",
      "  Relative error in x (A-norm): 0.33786475360676677\n",
      "  Relative residual (l2-norm):  3.4641016151377544\n",
      "Step: 26\n",
      "  Relative error in x (A-norm): 0.3173859450096858\n",
      "  Relative residual (l2-norm):  3.3226495451672298\n",
      "Step: 27\n",
      "  Relative error in x (A-norm): 0.2973382206719067\n",
      "  Relative residual (l2-norm):  3.181194744117373\n",
      "Step: 28\n",
      "  Relative error in x (A-norm): 0.2777310515284708\n",
      "  Relative residual (l2-norm):  3.0397368307141326\n",
      "Step: 29\n",
      "  Relative error in x (A-norm): 0.25857456125348366\n",
      "  Relative residual (l2-norm):  2.8982753492378874\n",
      "Step: 30\n",
      "  Relative error in x (A-norm): 0.23987960482441265\n",
      "  Relative residual (l2-norm):  2.756809750418044\n",
      "Step: 31\n",
      "  Relative error in x (A-norm): 0.22165786098936555\n",
      "  Relative residual (l2-norm):  2.6153393661244038\n",
      "Step: 32\n",
      "  Relative error in x (A-norm): 0.2039219419676107\n",
      "  Relative residual (l2-norm):  2.473863375370596\n",
      "Step: 33\n",
      "  Relative error in x (A-norm): 0.18668552474285424\n",
      "  Relative residual (l2-norm):  2.33238075793812\n",
      "Step: 34\n",
      "  Relative error in x (A-norm): 0.16996350973611107\n",
      "  Relative residual (l2-norm):  2.1908902300206643\n",
      "Step: 35\n",
      "  Relative error in x (A-norm): 0.1537722146591016\n",
      "  Relative residual (l2-norm):  2.0493901531919194\n",
      "Step: 36\n",
      "  Relative error in x (A-norm): 0.13812961424681666\n",
      "  Relative residual (l2-norm):  1.9078784028338913\n",
      "Step: 37\n",
      "  Relative error in x (A-norm): 0.12305564082829443\n",
      "  Relative residual (l2-norm):  1.7663521732655694\n",
      "Step: 38\n",
      "  Relative error in x (A-norm): 0.10857256711363478\n",
      "  Relative residual (l2-norm):  1.624807680927192\n",
      "Step: 39\n",
      "  Relative error in x (A-norm): 0.09470550251879972\n",
      "  Relative residual (l2-norm):  1.4832396974191324\n",
      "Step: 40\n",
      "  Relative error in x (A-norm): 0.08148305025070908\n",
      "  Relative residual (l2-norm):  1.3416407864998738\n",
      "Step: 41\n",
      "  Relative error in x (A-norm): 0.06893819875457113\n",
      "  Relative residual (l2-norm):  1.2\n",
      "Step: 42\n",
      "  Relative error in x (A-norm): 0.05710956680671217\n",
      "  Relative residual (l2-norm):  1.058300524425836\n",
      "Step: 43\n",
      "  Relative error in x (A-norm): 0.04604320474893888\n",
      "  Relative residual (l2-norm):  0.916515138991168\n",
      "Step: 44\n",
      "  Relative error in x (A-norm): 0.03579531535059218\n",
      "  Relative residual (l2-norm):  0.7745966692414834\n",
      "Step: 45\n",
      "  Relative error in x (A-norm): 0.026436592419478728\n",
      "  Relative residual (l2-norm):  0.6324555320336759\n",
      "Step: 46\n",
      "  Relative error in x (A-norm): 0.01805963072947595\n",
      "  Relative residual (l2-norm):  0.4898979485566356\n",
      "Step: 47\n",
      "  Relative error in x (A-norm): 0.01079269366094211\n",
      "  Relative residual (l2-norm):  0.3464101615137754\n",
      "Step: 48\n",
      "  Relative error in x (A-norm): 0.004826639337239525\n",
      "  Relative residual (l2-norm):  0.2\n",
      "Step: 49\n",
      "  Relative error in x (A-norm): 0.0\n",
      "  Relative residual (l2-norm):  0.0\n"
     ]
    }
   ],
   "source": [
    "cg(create_stiffness_matrix(50))"
   ]
  },
  {
   "cell_type": "markdown",
   "metadata": {},
   "source": [
    "We see that, as expected, the CG method for an $n \\times n$ matrix solves the problem in $n$ iterations. However if, if we were satisfied with a less accurate solution we could have terminated the iterations sooner.\n",
    "\n",
    "Note that the reduction of the error in $\\boldsymbol{A}$-norm ($\\sqrt{\\boldsymbol{e}^{T}\\boldsymbol{A}\\boldsymbol{e}}$) decreases monotonically. The $l_{2}$-norm of the residual $\\boldsymbol{r}_{k} = \\boldsymbol{b} - \\boldsymbol{A}\\boldsymbol{x}_{k}$ increases in the first step (the relative norm of the residual is greater than one), and then starts to decrease. The monotonic convergence in the $\\boldsymbol{A}$-norm is what we expect from analysis of the CG method.\n",
    "\n",
    "We now test for the $50 \\times 50$ mass matrix:"
   ]
  },
  {
   "cell_type": "code",
   "execution_count": 23,
   "metadata": {},
   "outputs": [
    {
     "name": "stdout",
     "output_type": "stream",
     "text": [
      "Initial error (A-norm): 52.73205080756887\n",
      "Step: 0\n",
      "  Relative error in x (A-norm): 0.1801644989025269\n",
      "  Relative residual (l2-norm):  0.09997917317482363\n",
      "Step: 1\n",
      "  Relative error in x (A-norm): 0.0655801444866632\n",
      "  Relative residual (l2-norm):  0.04946248473461366\n",
      "Step: 2\n",
      "  Relative error in x (A-norm): 0.018121841334450505\n",
      "  Relative residual (l2-norm):  0.01410309953504954\n",
      "Step: 3\n",
      "  Relative error in x (A-norm): 0.004864134800672665\n",
      "  Relative residual (l2-norm):  0.003794207459877267\n",
      "Step: 4\n",
      "  Relative error in x (A-norm): 0.00130270525748141\n",
      "  Relative residual (l2-norm):  0.0010163105148484623\n",
      "Step: 5\n",
      "  Relative error in x (A-norm): 0.0003488109735466867\n",
      "  Relative residual (l2-norm):  0.0002721238038614918\n",
      "Step: 6\n",
      "  Relative error in x (A-norm): 9.338892122882458e-05\n",
      "  Relative residual (l2-norm):  7.2855366710292e-05\n",
      "Step: 7\n",
      "  Relative error in x (A-norm): 2.5001179307300148e-05\n",
      "  Relative residual (l2-norm):  1.9503576950218723e-05\n",
      "Step: 8\n",
      "  Relative error in x (A-norm): 6.692349938826676e-06\n",
      "  Relative residual (l2-norm):  5.2205666133725805e-06\n",
      "Step: 9\n",
      "  Relative error in x (A-norm): 1.7911861774423696e-06\n",
      "  Relative residual (l2-norm):  1.3972110120425345e-06\n",
      "Step: 10\n",
      "  Relative error in x (A-norm): 4.793305996599575e-07\n",
      "  Relative residual (l2-norm):  3.738822941547017e-07\n",
      "Step: 11\n",
      "  Relative error in x (A-norm): 1.282468993511812e-07\n",
      "  Relative residual (l2-norm):  1.000276641316369e-07\n",
      "Step: 12\n",
      "  Relative error in x (A-norm): 3.430488952182702e-08\n",
      "  Relative residual (l2-norm):  2.6754458727398348e-08\n",
      "Step: 13\n",
      "  Relative error in x (A-norm): 9.17351617338939e-09\n",
      "  Relative residual (l2-norm):  7.1537513933099204e-09\n",
      "Step: 14\n",
      "  Relative error in x (A-norm): 2.4521628275323332e-09\n",
      "  Relative residual (l2-norm):  1.912020555094262e-09\n",
      "Step: 15\n",
      "  Relative error in x (A-norm): 6.551547088469267e-10\n",
      "  Relative residual (l2-norm):  5.107567583615505e-10\n",
      "Step: 16\n",
      "  Relative error in x (A-norm): 1.7492108619945224e-10\n",
      "  Relative residual (l2-norm):  1.3633647839665954e-10\n"
     ]
    }
   ],
   "source": [
    "cg(create_mass_matrix(50))"
   ]
  },
  {
   "cell_type": "markdown",
   "metadata": {},
   "source": [
    "The CG methods converges rapidly for the mass matrix. It has terminated for the mass matrix after just 17 iterations, fewer than the size of the matrix, and compared to the 50 for the stiffness matrix."
   ]
  },
  {
   "cell_type": "markdown",
   "metadata": {},
   "source": [
    "**Exercise:** Examine the condition number $\\kappa_{2}$ for the mass and stiffness matrices as the matrix size increases.\n",
    "\n",
    "**Exercise:** Test how the number of CG iterations changes for the mass and stiffness matrices as the matrix size is increased."
   ]
  }
 ],
 "metadata": {
  "kernelspec": {
   "display_name": "Python 3 (ipykernel)",
   "language": "python",
   "name": "python3"
  },
  "language_info": {
   "codemirror_mode": {
    "name": "ipython",
    "version": 3
   },
   "file_extension": ".py",
   "mimetype": "text/x-python",
   "name": "python",
   "nbconvert_exporter": "python",
   "pygments_lexer": "ipython3",
   "version": "3.11.7"
  }
 },
 "nbformat": 4,
 "nbformat_minor": 4
}
