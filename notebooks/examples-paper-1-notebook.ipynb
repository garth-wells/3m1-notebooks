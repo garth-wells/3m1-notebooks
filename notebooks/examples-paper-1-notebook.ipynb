{
 "metadata": {
  "name": "",
  "signature": "sha256:dbba66209108b19d8631a44c1af06caf108a42f00ac5ae7211ee101362776688"
 },
 "nbformat": 3,
 "nbformat_minor": 0,
 "worksheets": [
  {
   "cells": [
    {
     "cell_type": "heading",
     "level": 1,
     "metadata": {},
     "source": [
      "3M1 Examples Paper crib (linear algebra)"
     ]
    },
    {
     "cell_type": "code",
     "collapsed": false,
     "input": [
      "import numpy as np"
     ],
     "language": "python",
     "metadata": {},
     "outputs": [],
     "prompt_number": 1
    },
    {
     "cell_type": "heading",
     "level": 2,
     "metadata": {},
     "source": [
      "Question 8 (least squares)"
     ]
    },
    {
     "cell_type": "markdown",
     "metadata": {},
     "source": [
      "Define matrix $\\boldsymbol{A}$ and RHS vector $\\boldsymbol{b}$: "
     ]
    },
    {
     "cell_type": "code",
     "collapsed": false,
     "input": [
      "A = np.array([[1, 2], [2, 2], [2, 0]])\n",
      "print(A)\n",
      "\n",
      "b = np.array([[5], [6], [0]])\n",
      "print(b)"
     ],
     "language": "python",
     "metadata": {},
     "outputs": [
      {
       "output_type": "stream",
       "stream": "stdout",
       "text": [
        "[[1 2]\n",
        " [2 2]\n",
        " [2 0]]\n",
        "[[5]\n",
        " [6]\n",
        " [0]]\n"
       ]
      }
     ],
     "prompt_number": 2
    },
    {
     "cell_type": "markdown",
     "metadata": {},
     "source": [
      "Solve least-squares problem using NumPy and print solution $\\boldsymbol{x}$"
     ]
    },
    {
     "cell_type": "code",
     "collapsed": false,
     "input": [
      "x, residual, rank, s = np.linalg.lstsq(A, b)\n",
      "print(x)"
     ],
     "language": "python",
     "metadata": {},
     "outputs": [
      {
       "output_type": "stream",
       "stream": "stdout",
       "text": [
        "[[ 0.11111111]\n",
        " [ 2.66666667]]\n"
       ]
      }
     ],
     "prompt_number": 3
    },
    {
     "cell_type": "markdown",
     "metadata": {},
     "source": [
      "Compute residual vector, and then the various norms:"
     ]
    },
    {
     "cell_type": "code",
     "collapsed": false,
     "input": [
      "r = A.dot(x) - b\n",
      "\n",
      "print(np.linalg.norm(r, 1))\n",
      "print(np.linalg.norm(r, 2))\n",
      "print(np.linalg.norm(r, np.inf))"
     ],
     "language": "python",
     "metadata": {},
     "outputs": [
      {
       "output_type": "stream",
       "stream": "stdout",
       "text": [
        "1.11111111111\n",
        "0.666666666667\n",
        "0.444444444444\n"
       ]
      }
     ],
     "prompt_number": 4
    },
    {
     "cell_type": "markdown",
     "metadata": {},
     "source": [
      "Compute condition number $\\kappa_{2}$ of the normal matrix:"
     ]
    },
    {
     "cell_type": "code",
     "collapsed": false,
     "input": [
      "kappa = np.linalg.cond((A.T).dot(A), 2)\n",
      "print(kappa)"
     ],
     "language": "python",
     "metadata": {},
     "outputs": [
      {
       "output_type": "stream",
       "stream": "stdout",
       "text": [
        "5.85704316444\n"
       ]
      }
     ],
     "prompt_number": 5
    },
    {
     "cell_type": "heading",
     "level": 2,
     "metadata": {},
     "source": [
      "Question 11 (Rayleigh quotient)"
     ]
    },
    {
     "cell_type": "markdown",
     "metadata": {},
     "source": [
      "Define matrix $\\boldsymbol{A}$"
     ]
    },
    {
     "cell_type": "code",
     "collapsed": false,
     "input": [
      "A = np.array([[3, 4, 1], [0, 0, 2], [1, 2, 1]])\n",
      "print(A)"
     ],
     "language": "python",
     "metadata": {},
     "outputs": [
      {
       "output_type": "stream",
       "stream": "stdout",
       "text": [
        "[[3 4 1]\n",
        " [0 0 2]\n",
        " [1 2 1]]\n"
       ]
      }
     ],
     "prompt_number": 6
    },
    {
     "cell_type": "markdown",
     "metadata": {},
     "source": [
      "Compute eigenvalues directly, then perform power iterations and compute estimate of largest eigenvalue using the Rayleigh quotient at each iteration:"
     ]
    },
    {
     "cell_type": "code",
     "collapsed": false,
     "input": [
      "# Nonsymmetric case\n",
      "evals = np.linalg.eigvals(A)\n",
      "print(\"Exact evals: {}\".format(evals))\n",
      "x0 = np.ones(3)\n",
      "for i in range(10): \n",
      "    x0 = A.dot(x0)\n",
      "    x0/np.linalg.norm(x0, 1)\n",
      "    \n",
      "    eig_est = x0.dot(A.dot(x0))/x0.dot(x0)\n",
      "    print(\"Eigen estimate: {}\".format(eig_est))"
     ],
     "language": "python",
     "metadata": {},
     "outputs": [
      {
       "output_type": "stream",
       "stream": "stdout",
       "text": [
        "Exact evals: [ 4.24914054  0.85363451 -1.10277505]\n",
        "Eigen estimate: 4.38095238095\n",
        "Eigen estimate: 4.30693069307\n",
        "Eigen estimate: 4.25293489861\n",
        "Eigen estimate: 4.25194713241\n",
        "Eigen estimate: 4.24917429276\n",
        "Eigen estimate: 4.24928492308\n",
        "Eigen estimate: 4.24913383355\n",
        "Eigen estimate: 4.24914845932\n",
        "Eigen estimate: 4.24913972412\n",
        "Eigen estimate: 4.24914099885\n"
       ]
      }
     ],
     "prompt_number": 7
    },
    {
     "cell_type": "markdown",
     "metadata": {},
     "source": [
      "Make matrix symmetric, and repeat:"
     ]
    },
    {
     "cell_type": "code",
     "collapsed": false,
     "input": [
      "# Symmetric case\n",
      "A = 0.5*(A + A.T)\n",
      "evals = np.linalg.eigvals(A)\n",
      "print(\"Exact evals: {}\".format(evals))\n",
      "x0 = np.ones(3)\n",
      "for i in range(10): \n",
      "    x0 = A.dot(x0)\n",
      "    x0/np.linalg.norm(x0, 1)\n",
      "    \n",
      "    eig_est = x0.dot(A.dot(x0))/x0.dot(x0)\n",
      "    print(\"Eigen estimate: {}\".format(eig_est))"
     ],
     "language": "python",
     "metadata": {},
     "outputs": [
      {
       "output_type": "stream",
       "stream": "stdout",
       "text": [
        "Exact evals: [ 4.89218588  0.90825552 -1.8004414 ]\n",
        "Eigen estimate: 4.88235294118\n",
        "Eigen estimate: 4.89162561576\n",
        "Eigen estimate: 4.89213668176\n",
        "Eigen estimate: 4.89218013555\n",
        "Eigen estimate: 4.89218513269\n",
        "Eigen estimate: 4.89218577889\n",
        "Eigen estimate: 4.89218586536\n",
        "Eigen estimate: 4.89218587704\n",
        "Eigen estimate: 4.89218587862\n",
        "Eigen estimate: 4.89218587883\n"
       ]
      }
     ],
     "prompt_number": 8
    },
    {
     "cell_type": "markdown",
     "metadata": {},
     "source": [
      "Observe that the Rayleigh quotient estimate converges much faster for the symmetric matrix. This is because it corresponds to solving a minimisation problem."
     ]
    },
    {
     "cell_type": "heading",
     "level": 2,
     "metadata": {},
     "source": [
      "Question 12 (stationary iterative methods)"
     ]
    },
    {
     "cell_type": "markdown",
     "metadata": {},
     "source": [
      "Define matrix $\\boldsymbol{A}$:"
     ]
    },
    {
     "cell_type": "code",
     "collapsed": false,
     "input": [
      "A = np.array([[2, -1], [-1, 2]])\n",
      "print(A)"
     ],
     "language": "python",
     "metadata": {},
     "outputs": [
      {
       "output_type": "stream",
       "stream": "stdout",
       "text": [
        "[[ 2 -1]\n",
        " [-1  2]]\n"
       ]
      }
     ],
     "prompt_number": 9
    },
    {
     "cell_type": "markdown",
     "metadata": {},
     "source": [
      "We split $\\boldsymbol{A}$ such that $\\boldsymbol{A} = \\boldsymbol{N} - \\boldsymbol{P}$. A method will converge if the largest eigenvalue of $\\boldsymbol{N}^{-1}\\boldsymbol{P}$ is less the one.\n",
      "\n",
      "For the Richardson method $\\boldsymbol{N} = \\boldsymbol{I}$:"
     ]
    },
    {
     "cell_type": "code",
     "collapsed": false,
     "input": [
      "# Richardson\n",
      "N = np.identity(2)\n",
      "P = N - A\n",
      "M = np.linalg.inv(N).dot(P) \n",
      "print(np.linalg.eigvals(M))"
     ],
     "language": "python",
     "metadata": {},
     "outputs": [
      {
       "output_type": "stream",
       "stream": "stdout",
       "text": [
        "[ 0. -2.]\n"
       ]
      }
     ],
     "prompt_number": 10
    },
    {
     "cell_type": "markdown",
     "metadata": {},
     "source": [
      "Largest eigenvalue (absolute value) is greater than 1, therefore method will not converge.\n",
      "\n",
      "For the Jacobi method, $\\boldsymbol{N} = \\text{diag}(\\boldsymbol{A})$:"
     ]
    },
    {
     "cell_type": "code",
     "collapsed": false,
     "input": [
      "# Jacobi\n",
      "N = np.diag(np.diag(A))\n",
      "P = N - A\n",
      "M = np.linalg.inv(N).dot(P) \n",
      "print(np.linalg.eigvals(M))"
     ],
     "language": "python",
     "metadata": {},
     "outputs": [
      {
       "output_type": "stream",
       "stream": "stdout",
       "text": [
        "[ 0.5 -0.5]\n"
       ]
      }
     ],
     "prompt_number": 11
    },
    {
     "cell_type": "markdown",
     "metadata": {},
     "source": [
      "Largest eigenvalue (absolute value) is less than 1, therefore method will converge.\n",
      "\n",
      "For Gauss-Seidel, $\\boldsymbol{N}$ is the lower triangular part of $\\boldsymbol{A}$:"
     ]
    },
    {
     "cell_type": "code",
     "collapsed": false,
     "input": [
      "# Gauss-Seidel\n",
      "N = np.tril(A)\n",
      "P = N - A\n",
      "M = np.linalg.inv(N).dot(P) \n",
      "print(np.linalg.eigvals(M))\n"
     ],
     "language": "python",
     "metadata": {},
     "outputs": [
      {
       "output_type": "stream",
       "stream": "stdout",
       "text": [
        "[ 0.    0.25]\n"
       ]
      }
     ],
     "prompt_number": 12
    },
    {
     "cell_type": "markdown",
     "metadata": {},
     "source": [
      "Gauss-Seidel will converge because largest eigenvalue is less than one."
     ]
    },
    {
     "cell_type": "heading",
     "level": 2,
     "metadata": {},
     "source": [
      "Question 14 (SVD)"
     ]
    },
    {
     "cell_type": "markdown",
     "metadata": {},
     "source": [
      "Define matrix $\\boldsymbol{A}$:"
     ]
    },
    {
     "cell_type": "code",
     "collapsed": false,
     "input": [
      "A = np.array([[1, 3], [2, 2], [3, 1]])\n",
      "print(A)"
     ],
     "language": "python",
     "metadata": {},
     "outputs": [
      {
       "output_type": "stream",
       "stream": "stdout",
       "text": [
        "[[1 3]\n",
        " [2 2]\n",
        " [3 1]]\n"
       ]
      }
     ],
     "prompt_number": 13
    },
    {
     "cell_type": "markdown",
     "metadata": {},
     "source": [
      "Compute the reduced SVD (recall that NumPy uses $\\boldsymbol{A} = \\boldsymbol{U} \\boldsymbol{\\Sigma} \\boldsymbol{V}$ rather than  $\\boldsymbol{A} = \\boldsymbol{U} \\boldsymbol{\\Sigma} \\boldsymbol{V}^{T}$):"
     ]
    },
    {
     "cell_type": "code",
     "collapsed": false,
     "input": [
      "U, s, V = np.linalg.svd(A, full_matrices=False)\n",
      "print s"
     ],
     "language": "python",
     "metadata": {},
     "outputs": [
      {
       "output_type": "stream",
       "stream": "stdout",
       "text": [
        "[ 4.89897949  2.        ]\n"
       ]
      }
     ],
     "prompt_number": 14
    },
    {
     "cell_type": "markdown",
     "metadata": {},
     "source": [
      "Compute pseudoinverse by creating $\\boldsymbol{\\Sigma}^{+} =  \\boldsymbol{\\Sigma}_{1}^{-1}$"
     ]
    },
    {
     "cell_type": "code",
     "collapsed": false,
     "input": [
      "# Pseudoinverse\n",
      "Sigma_p = np.diag(1.0/s)\n",
      "Ap = (V.T).dot(Sigma_p.dot(U.T))\n",
      "print Ap"
     ],
     "language": "python",
     "metadata": {},
     "outputs": [
      {
       "output_type": "stream",
       "stream": "stdout",
       "text": [
        "[[-0.16666667  0.08333333  0.33333333]\n",
        " [ 0.33333333  0.08333333 -0.16666667]]\n"
       ]
      }
     ],
     "prompt_number": 15
    },
    {
     "cell_type": "markdown",
     "metadata": {},
     "source": [
      "Compute $\\boldsymbol{A}^{+}\\boldsymbol{A}$:"
     ]
    },
    {
     "cell_type": "code",
     "collapsed": false,
     "input": [
      "# Check that A^{+}A = I\n",
      "print(Ap.dot(A))"
     ],
     "language": "python",
     "metadata": {},
     "outputs": [
      {
       "output_type": "stream",
       "stream": "stdout",
       "text": [
        "[[  1.00000000e+00  -3.88578059e-16]\n",
        " [  2.22044605e-16   1.00000000e+00]]\n"
       ]
      }
     ],
     "prompt_number": 16
    },
    {
     "cell_type": "markdown",
     "metadata": {},
     "source": [
      "which is the identity. Compute now $\\boldsymbol{A}\\boldsymbol{A}^{+}$"
     ]
    },
    {
     "cell_type": "code",
     "collapsed": false,
     "input": [
      "# Check that AA^{+} \\ne I\n",
      "print(A.dot(Ap))"
     ],
     "language": "python",
     "metadata": {},
     "outputs": [
      {
       "output_type": "stream",
       "stream": "stdout",
       "text": [
        "[[ 0.83333333  0.33333333 -0.16666667]\n",
        " [ 0.33333333  0.33333333  0.33333333]\n",
        " [-0.16666667  0.33333333  0.83333333]]\n"
       ]
      }
     ],
     "prompt_number": 17
    },
    {
     "cell_type": "markdown",
     "metadata": {},
     "source": [
      "Which is clearly not the identity."
     ]
    },
    {
     "cell_type": "markdown",
     "metadata": {},
     "source": [
      "(e) $\\boldsymbol{A}\\boldsymbol{A}^{+} \\boldsymbol{b}$ projects $\\boldsymbol{b}$ into the column space of $\\boldsymbol{A}$. Since it's a projector, it does nothing if $\\boldsymbol{b}$ is already in column space. Therefore any vector $\\boldsymbol{b}$ in column space of $\\boldsymbol{A}$ is a solution."
     ]
    },
    {
     "cell_type": "heading",
     "level": 2,
     "metadata": {},
     "source": [
      "Question 15 (pseudo inverse)"
     ]
    },
    {
     "cell_type": "markdown",
     "metadata": {},
     "source": [
      "Define matrix $\\boldsymbol{A}$:"
     ]
    },
    {
     "cell_type": "code",
     "collapsed": false,
     "input": [
      "A = np.array([[0, 3, 0], [2, 0, 0]])\n",
      "print(A)"
     ],
     "language": "python",
     "metadata": {},
     "outputs": [
      {
       "output_type": "stream",
       "stream": "stdout",
       "text": [
        "[[0 3 0]\n",
        " [2 0 0]]\n"
       ]
      }
     ],
     "prompt_number": 18
    },
    {
     "cell_type": "markdown",
     "metadata": {},
     "source": [
      "Compute SVD:"
     ]
    },
    {
     "cell_type": "code",
     "collapsed": false,
     "input": [
      "U, s, V = np.linalg.svd(A, full_matrices=False)\n",
      "print(U)\n",
      "print(s)\n",
      "print(V)"
     ],
     "language": "python",
     "metadata": {},
     "outputs": [
      {
       "output_type": "stream",
       "stream": "stdout",
       "text": [
        "[[ 1.  0.]\n",
        " [ 0.  1.]]\n",
        "[ 3.  2.]\n",
        "[[ 0.  1.  0.]\n",
        " [ 1.  0.  0.]]\n"
       ]
      }
     ],
     "prompt_number": 19
    },
    {
     "cell_type": "markdown",
     "metadata": {},
     "source": [
      "Compute $\\boldsymbol{\\Sigma}^{+} =  \\boldsymbol{\\Sigma}_{1}^{-1}$, and then $\\boldsymbol{A}^{+}$"
     ]
    },
    {
     "cell_type": "code",
     "collapsed": false,
     "input": [
      "# \\Sigma^{+}\n",
      "Sigma_p = np.diag(1.0/s)\n",
      "\n",
      "# A^{+}\n",
      "Ap = (V.T).dot(Sigma_p).dot(U)\n",
      "print(Ap)"
     ],
     "language": "python",
     "metadata": {},
     "outputs": [
      {
       "output_type": "stream",
       "stream": "stdout",
       "text": [
        "[[ 0.          0.5       ]\n",
        " [ 0.33333333  0.        ]\n",
        " [ 0.          0.        ]]\n"
       ]
      }
     ],
     "prompt_number": 20
    },
    {
     "cell_type": "markdown",
     "metadata": {},
     "source": [
      "Compute $\\boldsymbol{A}^{+}\\boldsymbol{A}$"
     ]
    },
    {
     "cell_type": "code",
     "collapsed": false,
     "input": [
      "ApA = Ap.dot(A)\n",
      "print(ApA)"
     ],
     "language": "python",
     "metadata": {},
     "outputs": [
      {
       "output_type": "stream",
       "stream": "stdout",
       "text": [
        "[[ 1.  0.  0.]\n",
        " [ 0.  1.  0.]\n",
        " [ 0.  0.  0.]]\n"
       ]
      }
     ],
     "prompt_number": 21
    },
    {
     "cell_type": "markdown",
     "metadata": {},
     "source": [
      "For this matrix, any $\\boldsymbol{x} = [x_{1} \\ \\ x_{2} \\ \\ 0]$ (which is from the row space of $\\boldsymbol{A}$) satisfies $\\boldsymbol{A}^{+} \\boldsymbol{A} \\boldsymbol{x} = \\boldsymbol{x}$."
     ]
    },
    {
     "cell_type": "heading",
     "level": 3,
     "metadata": {},
     "source": [
      "Question 16 (rank deficient least squares)"
     ]
    },
    {
     "cell_type": "markdown",
     "metadata": {},
     "source": [
      "Define matrix and RHS vector"
     ]
    },
    {
     "cell_type": "code",
     "collapsed": false,
     "input": [
      "A = np.array([[1, 0, 0], [1, 0, 0], [1, 1, 1]])\n",
      "print(A)\n",
      "\n",
      "b = np.array([0, 2, 2])\n",
      "print(b)"
     ],
     "language": "python",
     "metadata": {},
     "outputs": [
      {
       "output_type": "stream",
       "stream": "stdout",
       "text": [
        "[[1 0 0]\n",
        " [1 0 0]\n",
        " [1 1 1]]\n",
        "[0 2 2]\n"
       ]
      }
     ],
     "prompt_number": 22
    },
    {
     "cell_type": "markdown",
     "metadata": {},
     "source": [
      "Compute the SVD and print singular values:"
     ]
    },
    {
     "cell_type": "code",
     "collapsed": false,
     "input": [
      "# Compute SVD\n",
      "U, s, V = np.linalg.svd(A)\n",
      "print(s)"
     ],
     "language": "python",
     "metadata": {},
     "outputs": [
      {
       "output_type": "stream",
       "stream": "stdout",
       "text": [
        "[ 2.  1.  0.]\n"
       ]
      }
     ],
     "prompt_number": 23
    },
    {
     "cell_type": "markdown",
     "metadata": {},
     "source": [
      "There is one zero singular value, so we need to 'trim' the last column from $\\boldsymbol{U}$ and the last row from $\\boldsymbol{U}$, and compute $\\boldsymbol{\\sigma}^{+}$ "
     ]
    },
    {
     "cell_type": "code",
     "collapsed": false,
     "input": [
      "# Create view of U with last columns \n",
      "U1 = U[:, :2]\n",
      "print U1\n",
      "V1 = V[:2,:]\n",
      "print(V1)\n",
      "\n",
      "# Create Sigma^{+}\n",
      "S1 = np.diag(1.0/s[:-1])\n",
      "print(S1)"
     ],
     "language": "python",
     "metadata": {},
     "outputs": [
      {
       "output_type": "stream",
       "stream": "stdout",
       "text": [
        "[[-0.40824829 -0.57735027]\n",
        " [-0.40824829 -0.57735027]\n",
        " [-0.81649658  0.57735027]]\n",
        "[[-0.81649658 -0.40824829 -0.40824829]\n",
        " [-0.57735027  0.57735027  0.57735027]]\n",
        "[[ 0.5  0. ]\n",
        " [ 0.   1. ]]\n"
       ]
      }
     ],
     "prompt_number": 24
    },
    {
     "cell_type": "markdown",
     "metadata": {},
     "source": [
      "Solve problem $\\boldsymbol{x} = \\boldsymbol{V}_{1} \\boldsymbol{\\Sigma}_{1}^{-1} \\boldsymbol{U}_{1}^{T}$ "
     ]
    },
    {
     "cell_type": "code",
     "collapsed": false,
     "input": [
      "x = np.transpose(V1).dot(S1.dot(U1.T).dot(b))\n",
      "print(x)"
     ],
     "language": "python",
     "metadata": {},
     "outputs": [
      {
       "output_type": "stream",
       "stream": "stdout",
       "text": [
        "[ 1.   0.5  0.5]\n"
       ]
      }
     ],
     "prompt_number": 25
    }
   ],
   "metadata": {}
  }
 ]
}