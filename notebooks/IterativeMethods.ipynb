{
 "metadata": {
  "name": "",
<<<<<<< HEAD
  "signature": "sha256:60e31e9429b05ce280c3e3c32cd78cb8a85eaacf115710bd130aa527fe724cfd"
=======
  "signature": "sha256:ef00cff1033b54d5e402c9ce623bee635d1d3abf9e1f163ae489a762059f5610"
>>>>>>> upstream/master
 },
 "nbformat": 3,
 "nbformat_minor": 0,
 "worksheets": [
  {
   "cells": [
    {
     "cell_type": "heading",
     "level": 1,
     "metadata": {},
     "source": [
      "Iterative methods"
     ]
    },
    {
     "cell_type": "markdown",
     "metadata": {},
     "source": [
      "We explore in this notebook some iterative techniques for linear algebra problems. The implementations are written to expose how the methods work and are not optimised. Production-level implementations typically involve some specialised optimisations.\n",
      "\n",
      "This notebook illustrates:\n",
      "\n",
      "- Power iteration for eigenvalue problems\n",
      "- Stationary iterative methods\n",
      "- Conjugate gradient method"
     ]
    },
    {
     "cell_type": "heading",
     "level": 2,
     "metadata": {},
     "source": [
      "Matrix generators"
     ]
    },
    {
     "cell_type": "markdown",
     "metadata": {},
     "source": [
      "We will test some methods with two common matrices - the *stiffness matrix* and the *mass matrix*. Both are symmetric positive definite (SPD), but otherwise have very different properties. One matrix will be easy to solve using iterative methods, and one is much more challenging. To work with these matrices, we implement functions to help generate matrices of a given size."
     ]
    },
    {
     "cell_type": "heading",
     "level": 3,
     "metadata": {},
     "source": [
      "Stiffness matrix"
     ]
    },
    {
     "cell_type": "markdown",
     "metadata": {},
     "source": [
      "The stiffness matrix (this matrix comes up in the module 3D7) tends to arise in elliptic differential equations. We will start with a function to build a $n \\times n$ stiffness matrix:"
     ]
    },
    {
     "cell_type": "code",
     "collapsed": false,
     "input": [
      "import numpy as np\n",
      "def create_stiffness_matrix(n):\n",
      "    \"Create a stiffness matrix of size n x n\"\n",
      "\n",
      "    # Create a zero matrix\n",
      "    A = np.zeros((n + 1, n + 1))\n",
      "\n",
      "    # Add components of small matrix k to A\n",
      "    k = np.array([[1.0, -1.0], [-1.0, 1.0]])\n",
      "    for i in range(len(A) - 1):\n",
      "        A[i:i+2, i:i+2] += k\n",
      "\n",
      "    # We will remove the last row and column of the matrix. This will\n",
      "    # make the matrix invetible (SPD)\n",
      "    A = np.delete(A, -1, 0)    \n",
      "    A = np.delete(A, -1, 1)   \n",
      "    return A"
     ],
     "language": "python",
     "metadata": {},
     "outputs": [],
     "prompt_number": 16
    },
    {
     "cell_type": "heading",
     "level": 3,
     "metadata": {},
     "source": [
      "Mass matrix"
     ]
    },
    {
     "cell_type": "markdown",
     "metadata": {},
     "source": [
      "The second matrix we will look at is the mass matrix. It appears commonly in unsteady problems and when performing projections (least-squares fits of functions)."
     ]
    },
    {
     "cell_type": "code",
     "collapsed": false,
     "input": [
      "def create_mass_matrix(n):\n",
      "    \"Create a mass matrix of size n x n\"\n",
      "    A = np.zeros((n, n))\n",
      "    m = np.array([[1.0/3.0, 1.0/6.0], [1.0/6.0, 1.0/3.0]])\n",
      "    for i in range(len(A) - 1):\n",
      "        A[i:i+2, i:i+2] += m\n",
      "    return A"
     ],
     "language": "python",
     "metadata": {},
     "outputs": [],
     "prompt_number": 2
    },
    {
     "cell_type": "heading",
     "level": 2,
     "metadata": {},
     "source": [
      "Power iteration for the maximum eigenvalue"
     ]
    },
    {
     "cell_type": "markdown",
     "metadata": {},
     "source": [
      "A very simple algorithm that you have seen before in Part IB is *power iteration* for estimating the maximum (absolute) eigenvalue and corresponding eigenvector.\n",
      "\n",
      "To test power iterations, we will create a small stiffness matrix. The stiffness matrix has eigenvalues that are close, and which get closer for large $n$. To measure the error in the estimated eigenvalues and eigenvectors, we will first add a function to compute the maximum eigenpair of a matrix directly:"
     ]
    },
    {
     "cell_type": "code",
     "collapsed": false,
     "input": [
      "def max_eigenpair(A, print_values=False):\n",
      "    \"Compute the eigenpair for the largest eigenvalue. Matrix A is assumed symmetric\"\n",
      "    \n",
      "    # Compute eigenpairs\n",
      "    evals, evecs = np.linalg.eigh(A)\n",
      "\n",
      "    # Get index of largest absolute eigenvalue\n",
      "    index = np.argmax(np.abs(evals))\n",
      "\n",
      "    # Get largest eigenvalue and corresponding eigenvector\n",
      "    eval_max = evals[index]\n",
      "    evec_max = evecs[:, index]/np.linalg.norm(evecs[:, index])\n",
      "\n",
      "    if print_values:\n",
      "        print(\"  Largest eigenvalue:        {}\".format(eval_max))\n",
      "\n",
      "        # Get second largest eigenvalue to compare to largest\n",
      "        eval1 = evals[np.argsort(abs(evals))[-2]]\n",
      "        print(\"  Second largest eigenvalue: {}\".format(eval1))\n",
      "    \n",
      "    return eval_max, evec_max"
     ],
     "language": "python",
     "metadata": {},
     "outputs": [],
<<<<<<< HEAD
     "prompt_number": 17
=======
     "prompt_number": 3
>>>>>>> upstream/master
    },
    {
     "cell_type": "markdown",
     "metadata": {},
     "source": [
      "Computing the largest and second largest eigenvalues for $5 \\times 5$ and $20 \\times 20$ matrices, we see that they get closer as the matrix size increases:"
     ]
    },
    {
     "cell_type": "code",
     "collapsed": false,
     "input": [
      "# Check largest and second eigenvalues of 5x5 stiffness matrix\n",
      "print(\"Stiffness matrix 5 x 5:\")\n",
      "max_eigenpair(create_stiffness_matrix(5), print_values=True);\n",
      "\n",
      "# Check largest and second eigenvalues of 10x10 stiffness matrix\n",
      "print(\"Stiffness matrix 20 x 20:\")\n",
      "max_eigenpair(create_stiffness_matrix(20), print_values=True);"
     ],
     "language": "python",
     "metadata": {},
     "outputs": [
      {
       "output_type": "stream",
       "stream": "stdout",
       "text": [
        "Stiffness matrix 5 x 5:\n",
        "  Largest eigenvalue:        3.68250706566\n",
        "  Second largest eigenvalue: 2.830830026\n",
        "Stiffness matrix 20 x 20:\n",
        "  Largest eigenvalue:        3.97656084756\n",
        "  Second largest eigenvalue: 3.90679278411\n"
       ]
      }
     ],
<<<<<<< HEAD
     "prompt_number": 18
=======
     "prompt_number": 4
>>>>>>> upstream/master
    },
    {
     "cell_type": "markdown",
     "metadata": {},
     "source": [
      "We will now apply power iteration to estimate the largest eigenvalue and corresponding eigenvalue. We know that convergence will be poor as the matrix size increases because the largest and second largest eigenvalues become a close, so we will test with the small $10 \\times 10$ matrix. \n",
      "\n",
      "We perform a power iteration with a random starting vector $\\boldsymbol{u}_{0}$ and 10 iterations. At each iteration we compare the error in the eigenvalue estimated by \n",
      "\n",
      "- Scaling of the solution from one iterate to the next; and \n",
      "- Rayleigh quotient $R = \\boldsymbol{x}^{T} \\boldsymbol{A} \\boldsymbol{x}/(\\boldsymbol{x}^{T} \\boldsymbol{x})$\n",
      "\n",
      "We also compute the error in eigenvector as $\\| \\boldsymbol{u}_{\\text{exact}} - \\boldsymbol{u}_{k} \\|_{2}$, where $\\boldsymbol{u}_{k}$ is the estimate of the eigenvector at the $k$th iterate."
     ]
    },
    {
     "cell_type": "code",
     "collapsed": false,
     "input": [
      "# Create 10x10 matrix\n",
      "A = create_stiffness_matrix(10)\n",
      "\n",
      "# Get exact eigenpair to compute errors\n",
      "lambda_max, u_max = max_eigenpair(A)\n",
      "\n",
      "# Create random starting vector and normalise\n",
      "np.random.seed(3)\n",
      "u0 = np.random.rand(A.shape[1])\n",
      "u0 = u0/np.linalg.norm(u0)\n",
      "\n",
      "# Perform power iteration\n",
      "for k in range(10):\n",
      "    print(\"Step: {}\".format(k))\n",
      "\n",
      "    # Compute u_{k+1} = A u_{k}\n",
      "    u1 = A.dot(u0)\n",
      "\n",
      "    # Estimate eigenvalue (from scaling of each entry and by Rayleigh quotient)\n",
      "    lambda_est   = np.divide(u1, u0)\n",
      "    rayleigh_est = u1.dot(A.dot(u1))/(u1.dot(u1))\n",
      "\n",
      "    # Normalise estimated eigenvector and assign to u0\n",
      "    u0 = u1/np.linalg.norm(u1)\n",
      "\n",
      "    # Print errors in eigenvalue\n",
      "    print(\"  Relative errors\")    \n",
      "    print \"    lambda (scaling):     \", np.abs(lambda_max - np.average(lambda_est))/lambda_max    \n",
      "    print \"    lambda (Rayleigh):    \", np.abs(lambda_max - rayleigh_est)/lambda_max    \n",
      "\n",
      "    # Get signs on eigenvectors (could be pointing in opposite directions) and print error\n",
      "    dir0, dir_est = abs(u_max[0])/u_max[0], abs(u0[0])/u0[0]\n",
      "    print \"    u (l2):               \", np.linalg.norm(dir0*u_max - dir_est*u0)"
     ],
     "language": "python",
     "metadata": {},
     "outputs": [
      {
       "output_type": "stream",
       "stream": "stdout",
       "text": [
        "Step: 0\n",
        "  Relative errors\n",
        "    lambda (scaling):      1.384646117\n",
        "    lambda (Rayleigh):     0.247897492642\n",
        "    u (l2):                0.893863604888\n",
        "Step: 1\n",
        "  Relative errors\n",
        "    lambda (scaling):      0.187638838776\n",
        "    lambda (Rayleigh):     0.110661729285\n",
        "    u (l2):                0.695739955198\n",
        "Step: 2\n",
        "  Relative errors\n",
        "    lambda (scaling):      1.11718386833\n",
        "    lambda (Rayleigh):     0.0558908010444\n",
        "    u (l2):                0.571889091588\n",
        "Step: 3\n",
        "  Relative errors\n",
        "    lambda (scaling):      0.0802417631464\n",
        "    lambda (Rayleigh):     0.0338304270081\n",
        "    u (l2):                0.490190671581\n",
        "Step: 4\n",
        "  Relative errors\n",
        "    lambda (scaling):      0.00153281444\n",
        "    lambda (Rayleigh):     0.0228823303756\n",
        "    u (l2):                0.429602241986\n",
        "Step: 5\n",
        "  Relative errors\n",
        "    lambda (scaling):      0.016645293525\n",
        "    lambda (Rayleigh):     0.0164100420122\n",
        "    u (l2):                0.381398286013\n",
        "Step: 6\n",
        "  Relative errors\n",
        "    lambda (scaling):      0.0195975245933\n",
        "    lambda (Rayleigh):     0.0121854752746\n",
        "    u (l2):                0.341676359043\n",
        "Step: 7\n",
        "  Relative errors\n",
        "    lambda (scaling):      0.0188494617942\n",
        "    lambda (Rayleigh):     0.00927466048591\n",
        "    u (l2):                0.308281315862\n",
        "Step: 8\n",
        "  Relative errors\n",
        "    lambda (scaling):      0.0167749266041\n",
        "    lambda (Rayleigh):     0.0072004750549\n",
        "    u (l2):                0.279805580829\n",
        "Step: 9\n",
        "  Relative errors\n",
        "    lambda (scaling):      0.0142962215653\n",
        "    lambda (Rayleigh):     0.00568589438737\n",
        "    u (l2):                0.255239572853\n"
       ]
      }
     ],
<<<<<<< HEAD
     "prompt_number": 19
=======
     "prompt_number": 5
>>>>>>> upstream/master
    },
    {
     "cell_type": "markdown",
     "metadata": {},
     "source": [
      "Some observations:\n",
      "\n",
      "- The first observation is that the method is slow to converge. It will take close to 100 iterations to get a good estimate of the eigenvector.\n",
      "- The error in the estimate of the largest eigenvalue via the Rayleigh quotient decreases monotonically.\n",
      "- For a given error in the estimated eigenvector, the error in the estimated eigenvalue via the Rayleigh quotient is much smaller."
     ]
    },
    {
     "cell_type": "heading",
     "level": 2,
     "metadata": {},
     "source": [
      "Stationary iterative methods for $\\boldsymbol{A} \\boldsymbol{x} = \\boldsymbol{b}$"
     ]
    },
    {
     "cell_type": "markdown",
     "metadata": {},
     "source": [
      "We now look at methods for the very important problem of finding (approximate) solutions to $\\boldsymbol{A} \\boldsymbol{x} = \\boldsymbol{b}$. We looks first at simple stationary methods, and then the more elaborate conjugate gradient method."
     ]
    },
    {
     "cell_type": "heading",
     "level": 3,
     "metadata": {},
     "source": [
      "Stationary methods"
     ]
    },
    {
     "cell_type": "markdown",
     "metadata": {},
     "source": [
      "We consider methods that involve splitting $\\boldsymbol{A}$ such that $\\boldsymbol{A} = \\boldsymbol{N} - \\boldsymbol{P}$, and then solving\n",
      "\n",
      "$$\n",
      "\\boldsymbol{x}_{k+1} = \\boldsymbol{N}^{-1} \\left(\\boldsymbol{b} \n",
      "+ \\boldsymbol{P}\\boldsymbol{x}_{k} \\right)\n",
      "$$\n",
      "\n",
      "We assume that $\\boldsymbol{A}$ is hard/expensive to solve, and it is split such that $\\boldsymbol{N}$ is easy/cheap to solve. We will experiment with the Jacobi and Gauss-Seidel methods."
     ]
    },
    {
<<<<<<< HEAD
     "cell_type": "code",
     "collapsed": false,
     "input": [
      "A = create_stiffness_matrix(50)"
     ],
     "language": "python",
     "metadata": {},
     "outputs": [],
     "prompt_number": 20
    },
    {
=======
>>>>>>> upstream/master
     "cell_type": "heading",
     "level": 4,
     "metadata": {},
     "source": [
      "Jacobi method"
     ]
    },
    {
     "cell_type": "markdown",
     "metadata": {},
     "source": [
      "A very simple method is the Jacobi method, in which $\\boldsymbol{N} = \\text{diag}(\\boldsymbol{A})$ and which is trivial to invert. The method becomes: "
     ]
    },
    {
     "cell_type": "markdown",
     "metadata": {},
     "source": [
      "$$\n",
      "\\boldsymbol{x}_{k+1} = \\text{diag}(\\boldsymbol{A})^{-1} \\boldsymbol{b} \n",
      "+ (\\boldsymbol{I} - \\text{diag}(\\boldsymbol{A})^{-1} \\boldsymbol{A}) \\boldsymbol{x}_{k}\n",
      "$$\n",
      "\n",
      "We will test first with a  $50 \\times 50$ stiffness matrix."
     ]
    },
    {
     "cell_type": "code",
     "collapsed": false,
     "input": [
      "A = create_stiffness_matrix(50)"
     ],
     "language": "python",
     "metadata": {},
     "outputs": [],
     "prompt_number": 6
    },
    {
     "cell_type": "markdown",
     "metadata": {},
     "source": [
      "To implement the Jacobi method, we first create the $\\boldsymbol{N} = \\boldsymbol{D} = \\text{diag}(\\boldsymbol{A})$ matrix and its inverse: "
     ]
    },
    {
     "cell_type": "code",
     "collapsed": false,
     "input": [
      "D = np.diag(np.diag(A))\n",
      "Dinv = np.diag(1.0/np.diag(A))"
     ],
     "language": "python",
     "metadata": {},
     "outputs": [],
<<<<<<< HEAD
     "prompt_number": 21
=======
     "prompt_number": 7
>>>>>>> upstream/master
    },
    {
     "cell_type": "markdown",
     "metadata": {},
     "source": [
      "We have seen in the lectures that the stationary methods will only converge if \n",
      "$\\rho(\\boldsymbol{N}^{-1} \\boldsymbol{P}) < 1$, where $\\rho$ is the spectral radius (recall that spectral radius of a matrix is the largest absolute eigenvalue). Let's compute the spectral radius for this problem:"
     ]
    },
    {
     "cell_type": "code",
     "collapsed": false,
     "input": [
      "N = D\n",
      "P = N - A\n",
      "evals = np.linalg.eigvals(Dinv.dot(P))\n",
      "print \"Spectral radius (rho) is: {}\".format(np.max(abs(evals)))"
     ],
     "language": "python",
     "metadata": {},
     "outputs": [
      {
       "output_type": "stream",
       "stream": "stdout",
       "text": [
        "Spectral radius (rho) is: 0.999506560366\n"
       ]
      }
     ],
<<<<<<< HEAD
     "prompt_number": 22
=======
     "prompt_number": 8
>>>>>>> upstream/master
    },
    {
     "cell_type": "markdown",
     "metadata": {},
     "source": [
      "The largest eigenvalue is less that one (only just!), so we can expect the Jacobi method to converge. However, it is close to one so we expect the convergence to be slow. \n",
      "\n",
      "**Experiment:** compare the spectral radius for different size matrices.\n",
      "\n",
      "Let's try solving $\\boldsymbol{A} \\boldsymbol{x} = \\boldsymbol{b}$ with Jacobi's method using 15 iterations and with $\\boldsymbol{b} = \\boldsymbol{1}$:"
     ]
    },
    {
     "cell_type": "code",
     "collapsed": false,
     "input": [
      "Ja = [] \n",
      "I = np.identity(A.shape[0])\n",
      "b = np.ones(A.shape[1])\n",
      "x = np.zeros(A.shape[1])\n",
      "r0_norm = np.linalg.norm(b - A.dot(x), 2)\n",
      "for k in range(15):\n",
      "    x = Dinv.dot(b) + (I - Dinv.dot(A)).dot(x)\n",
      "    r = b - A.dot(x)\n",
      "    Ja.extend([np.linalg.norm(r, 2)/r0_norm])\n",
      "    print(\"Step: {}, relative norm of residual (l2): {}\".format(k + 1, Ja[k]))"
     ],
     "language": "python",
     "metadata": {},
     "outputs": [
      {
       "output_type": "stream",
       "stream": "stdout",
       "text": [
        "Step: 1, relative norm of residual (l2): 0.997496867163\n",
        "Step: 2, relative norm of residual (l2): 0.98931794687\n",
        "Step: 3, relative norm of residual (l2): 0.988685996664\n",
        "Step: 4, relative norm of residual (l2): 0.98325829516\n",
        "Step: 5, relative norm of residual (l2): 0.98274170055\n",
        "Step: 6, relative norm of residual (l2): 0.978389540904\n",
        "Step: 7, relative norm of residual (l2): 0.977930292122\n",
        "Step: 8, relative norm of residual (l2): 0.974191966603\n",
        "Step: 9, relative norm of residual (l2): 0.973771323679\n",
        "Step: 10, relative norm of residual (l2): 0.970441874112\n",
        "Step: 11, relative norm of residual (l2): 0.970050121468\n",
        "Step: 12, relative norm of residual (l2): 0.967017668818\n",
        "Step: 13, relative norm of residual (l2): 0.966648783738\n",
        "Step: 14, relative norm of residual (l2): 0.963844453337\n",
        "Step: 15, relative norm of residual (l2): 0.963494333737\n"
       ]
      }
     ],
<<<<<<< HEAD
     "prompt_number": 23
=======
     "prompt_number": 9
    },
    {
     "cell_type": "markdown",
     "metadata": {},
     "source": [
      "We can see that the residual is decreasing, but extremely slowly. This is to be expected because $\\rho(\\boldsymbol{N}^{-1} \\boldsymbol{P})$ is very close to one.\n",
      "\n",
      "We now try with the mass matrix. For this we collect the above steps in a function, and then call the function for a $50 \\times 50$ mass matrix."
     ]
    },
    {
     "cell_type": "code",
     "collapsed": false,
     "input": [
      "def jacobi_solver(A):\n",
      "    N = np.diag(np.diag(A))\n",
      "    Dinv = np.diag(1.0/np.diag(A))    \n",
      "    P = N - A\n",
      "    evals = np.linalg.eigvals(Dinv.dot(P))\n",
      "    print \"Spectral radius (rho) is: {}\".format(np.max(abs(evals)))\n",
      "    \n",
      "    I = np.identity(A.shape[0])\n",
      "\n",
      "    b = np.ones(A.shape[1])\n",
      "    x = np.zeros(A.shape[1])\n",
      "    r0_norm = np.linalg.norm(b - A.dot(x), 2)\n",
      "    for k in range(15):\n",
      "        x = Dinv.dot(b) + (I - Dinv.dot(A)).dot(x)\n",
      "        r = b - A.dot(x)\n",
      "        print(\"  Step: {}, relative norm of residual (l2): {}\".format(k + 1, np.linalg.norm(r, 2)/r0_norm))\n",
      "        \n",
      "jacobi_solver(create_mass_matrix(50) )        "
     ],
     "language": "python",
     "metadata": {},
     "outputs": [
      {
       "output_type": "stream",
       "stream": "stdout",
       "text": [
        "Spectral radius (rho) is: 0.5\n",
        "  Step: 1, relative norm of residual (l2): 0.504975246918\n",
        "  Step: 2, relative norm of residual (l2): 0.250624220697\n",
        "  Step: 3, relative norm of residual (l2): 0.12601153221\n",
        "  Step: 4, relative norm of residual (l2): 0.0627047427682\n",
        "  Step: 5, relative norm of residual (l2): 0.0314822909515\n",
        "  Step: 6, relative norm of residual (l2): 0.0156818119999\n",
        "  Step: 7, relative norm of residual (l2): 0.00786773231234\n",
        "  Step: 8, relative norm of residual (l2): 0.00392128197871\n",
        "  Step: 9, relative norm of residual (l2): 0.00196646752342\n",
        "  Step: 10, relative norm of residual (l2): 0.00098045923951\n",
        "  Step: 11, relative norm of residual (l2): 0.000491533059138\n",
        "  Step: 12, relative norm of residual (l2): 0.000245139922194\n",
        "  Step: 13, relative norm of residual (l2): 0.000122867248476\n",
        "  Step: 14, relative norm of residual (l2): 6.12897728268e-05\n",
        "  Step: 15, relative norm of residual (l2): 3.07136233681e-05\n"
       ]
      }
     ],
     "prompt_number": 10
>>>>>>> upstream/master
    },
    {
     "cell_type": "markdown",
     "metadata": {},
     "source": [
      "The spectral radius is considerably small than one and much smaller than it was for the stiffness matrix, which is then evident in the much faster convergence."
     ]
    },
    {
     "cell_type": "heading",
     "level": 4,
     "metadata": {},
     "source": [
      "Gauss-Seidel"
     ]
    },
    {
     "cell_type": "markdown",
     "metadata": {},
     "source": [
      "For the Gauss-Seidel, method, $\\boldsymbol{N}$ is the lower triangular part of $\\boldsymbol{A}$ and $\\boldsymbol{P}$ is the strictly upper triangular part of $\\boldsymbol{A}$ ($\\boldsymbol{P}$ is zero on the diagonal). Solving  $\\boldsymbol{N} \\boldsymbol{y} = \\boldsymbol{f}$ is then analogous to the forward substitution step in a LU solver.\n",
      "\n",
      "From the general expression for a stationary method, we multiply both sides by $\\boldsymbol{N}$:\n",
      "\n",
      "$$\n",
      "\\boldsymbol{N} \\boldsymbol{x}_{k+1} = \\boldsymbol{b} + \\boldsymbol{P}\\boldsymbol{x}_{k}\n",
      "$$\n",
      "\n",
      "We will solve our problem using this formulation. We create a $50 \\times 50$ stiffness matrix, and then form the \n",
      "$\\boldsymbol{N}$ and $\\boldsymbol{P}$ matrices: "
     ]
    },
    {
     "cell_type": "code",
     "collapsed": false,
     "input": [
      "# Create etiffness matrix\n",
      "A = create_stiffness_matrix(50)\n",
      "\n",
      "# Form lower-triangular part of A\n",
      "N = np.tril(A)\n",
      "\n",
      "# Form P\n",
      "P = N - A"
     ],
     "language": "python",
     "metadata": {},
     "outputs": [],
<<<<<<< HEAD
     "prompt_number": 24
=======
     "prompt_number": 11
>>>>>>> upstream/master
    },
    {
     "cell_type": "markdown",
     "metadata": {},
     "source": [
      "We now check the spectral radius for stiffness matrix and the Gauss-Seidel method:"
     ]
    },
    {
     "cell_type": "code",
     "collapsed": false,
     "input": [
      "evals = np.linalg.eigvals(np.linalg.inv(N).dot(P))\n",
      "print \"Largest eigenvalue (rho) is: {}\".format(np.max(abs(evals)))"
     ],
     "language": "python",
     "metadata": {},
     "outputs": [
      {
       "output_type": "stream",
       "stream": "stdout",
       "text": [
        "Largest eigenvalue (rho) is: 0.999013364214\n"
       ]
      }
     ],
<<<<<<< HEAD
     "prompt_number": 25
=======
     "prompt_number": 12
>>>>>>> upstream/master
    },
    {
     "cell_type": "markdown",
     "metadata": {},
     "source": [
      "The spectral radius is very slightly smaller that for the Jacobi case, but still very close to one so we cannot expect good convergence.\n",
      "\n",
      "Now the solver. We write a function to perform 15 Gauss-Seidel iterations, using SciPy for the forward substitution step involving $\\boldsymbol{N}$:"
     ]
    },
    {
     "cell_type": "code",
     "collapsed": false,
     "input": [
      "import scipy.linalg as LA\n",
      "\n",
<<<<<<< HEAD
      "GS = []\n",
      "b = np.ones(A.shape[1])\n",
      "x = np.zeros(A.shape[1])\n",
      "r0_norm = np.linalg.norm(b - A.dot(x), 2)\n",
      "for k in range(15):\n",
      "    c = b + P.dot(x)\n",
      "    x = LA.solve_triangular(N, c, lower=True)\n",
      "\n",
      "    # Compute residual to monitor convergence\n",
      "    r = b - A.dot(x)\n",
      "    GS.extend([np.linalg.norm(r, 2)/r0_norm])\n",
      "    print(\"Step: {}, relative norm of residual (l2): {}\".format(k + 1, np.linalg.norm(r, 2)/r0_norm))"
=======
      "def gauss_seidel_solver(A):\n",
      "    \"Compute spectral radius and perform 15 Gauss-Seidel iterations\"\n",
      "    N = np.tril(A)\n",
      "    P = N - A\n",
      "\n",
      "    evals = np.linalg.eigvals(np.linalg.inv(N).dot(P))\n",
      "    print \"Largest eigenvalue (rho) is: {}\".format(np.max(abs(evals)))\n",
      "    \n",
      "    b = np.ones(A.shape[1])\n",
      "    x = np.zeros(A.shape[1])\n",
      "    r0_norm = np.linalg.norm(b - A.dot(x), 2)\n",
      "    for k in range(15):\n",
      "        c = b + P.dot(x)\n",
      "        x = LA.solve_triangular(N, c, lower=True)\n",
      "\n",
      "        # Compute residual to monitor convergence\n",
      "        r = b - A.dot(x)\n",
      "        print(\"Step: {}, relative norm of residual (l2): {}\".format(k + 1, np.linalg.norm(r, 2)/r0_norm))"
     ],
     "language": "python",
     "metadata": {},
     "outputs": [],
     "prompt_number": 13
    },
    {
     "cell_type": "markdown",
     "metadata": {},
     "source": [
      "Calling the function for a $50 \\times 50$ stiffness matrix:"
     ]
    },
    {
     "cell_type": "code",
     "collapsed": false,
     "input": [
      "gauss_seidel_solver(create_stiffness_matrix(50))"
>>>>>>> upstream/master
     ],
     "language": "python",
     "metadata": {},
     "outputs": [
      {
       "output_type": "stream",
       "stream": "stdout",
       "text": [
        "Largest eigenvalue (rho) is: 0.999013364214\n",
        "Step: 1, relative norm of residual (l2): 0.989949493661\n",
        "Step: 2, relative norm of residual (l2): 0.982344135219\n",
        "Step: 3, relative norm of residual (l2): 0.976761229779\n",
        "Step: 4, relative norm of residual (l2): 0.972151287095\n",
        "Step: 5, relative norm of residual (l2): 0.968122906913\n",
        "Step: 6, relative norm of residual (l2): 0.964493072659\n",
        "Step: 7, relative norm of residual (l2): 0.961159037043\n",
        "Step: 8, relative norm of residual (l2): 0.958056014751\n",
        "Step: 9, relative norm of residual (l2): 0.955139940101\n",
        "Step: 10, relative norm of residual (l2): 0.952379199662\n",
        "Step: 11, relative norm of residual (l2): 0.949750191688\n",
        "Step: 12, relative norm of residual (l2): 0.947234739558\n",
        "Step: 13, relative norm of residual (l2): 0.944818490486\n",
        "Step: 14, relative norm of residual (l2): 0.942489875579\n",
        "Step: 15, relative norm of residual (l2): 0.940239407731\n"
       ]
      }
     ],
<<<<<<< HEAD
     "prompt_number": 26
=======
     "prompt_number": 14
>>>>>>> upstream/master
    },
    {
     "cell_type": "markdown",
     "metadata": {},
     "source": [
      "We can see from the decrease in the residual that the Gauss-Seidel method converges somewhat faster than the Jacobi method, but it is still far too slow to be of any practical use on its own.\n",
      "\n",
      "As for the Jacobi method, we will collect the above steps in sude a function and test for the $50\\times 50$ mass matrix."
     ]
    },
    {
     "cell_type": "code",
     "collapsed": false,
     "input": [
      "def gauss_seidel_solver(A):\n",
      "    \"Compute spectral radius and perform 15 Gauss-Seidel iterations\"\n",
      "    N = np.tril(A)\n",
      "    P = N - A\n",
      "\n",
      "    evals = np.linalg.eigvals(np.linalg.inv(N).dot(P))\n",
      "    print \"Largest eigenvalue (rho) is: {}\".format(np.max(abs(evals)))\n",
      "    \n",
      "    b = np.ones(A.shape[1])\n",
      "    x = np.zeros(A.shape[1])\n",
      "    r0_norm = np.linalg.norm(b - A.dot(x), 2)\n",
      "    for k in range(15):\n",
      "        c = b + P.dot(x)\n",
      "        x = LA.solve_triangular(N, c, lower=True)\n",
      "\n",
      "        # Compute residual to monitor convergence\n",
      "        r = b - A.dot(x)\n",
      "        print(\"  Step: {}, relative norm of residual (l2): {}\".format(k + 1, np.linalg.norm(r, 2)/r0_norm))\n",
      "\n",
      "gauss_seidel_solver(create_mass_matrix(50))"
     ],
     "language": "python",
     "metadata": {},
     "outputs": [
      {
       "output_type": "stream",
       "stream": "stdout",
       "text": [
        "Largest eigenvalue (rho) is: 0.25\n",
        "  Step: 1, relative norm of residual (l2): 0.203076340326\n",
        "  Step: 2, relative norm of residual (l2): 0.0412812507885\n",
        "  Step: 3, relative norm of residual (l2): 0.00856896620705\n",
        "  Step: 4, relative norm of residual (l2): 0.00189434312932\n",
        "  Step: 5, relative norm of residual (l2): 0.000456461220266\n",
        "  Step: 6, relative norm of residual (l2): 0.000123020386318\n",
        "  Step: 7, relative norm of residual (l2): 3.60605664986e-05\n",
        "  Step: 8, relative norm of residual (l2): 1.11532874556e-05\n",
        "  Step: 9, relative norm of residual (l2): 3.53875250772e-06\n",
        "  Step: 10, relative norm of residual (l2): 1.13782793836e-06\n",
        "  Step: 11, relative norm of residual (l2): 3.68260160619e-07\n",
        "  Step: 12, relative norm of residual (l2): 1.19676385608e-07\n",
        "  Step: 13, relative norm of residual (l2): 3.89962517237e-08\n",
        "  Step: 14, relative norm of residual (l2): 1.27329789733e-08\n",
        "  Step: 15, relative norm of residual (l2): 4.16433577798e-09\n"
       ]
      }
     ],
     "prompt_number": 15
    },
    {
     "cell_type": "markdown",
     "metadata": {},
     "source": [
      "The spectral radius is only half that for the Jacobi method, and this is manifest in the faster observed convergence."
     ]
    },
    {
     "cell_type": "code",
     "collapsed": false,
     "input": [
      "%matplotlib inline\n",
      "import matplotlib.pyplot as plt\n",
      "import numpy as np\n",
      "\n",
      "k = list(range(1,16))\n",
      "plt.grid()\n",
      "plt.plot(k, Ja, 'b-', label=\"Jacobian\")\n",
      "plt.plot(k, GS, 'r-', label=\"Gauss-Seidel\")\n",
      "plt.ylabel(\"Relative Norm of Residual\")\n",
      "plt.xlabel(\"Number of Iterations\")\n",
      "plt.legend()"
     ],
     "language": "python",
     "metadata": {},
     "outputs": [
      {
       "metadata": {},
       "output_type": "pyout",
       "prompt_number": 27,
       "text": [
        "<matplotlib.legend.Legend at 0x7f5d4daa5650>"
       ]
      },
      {
       "metadata": {},
       "output_type": "display_data",
       "png": "iVBORw0KGgoAAAANSUhEUgAAAYoAAAEPCAYAAABcA4N7AAAABHNCSVQICAgIfAhkiAAAAAlwSFlz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\nURRFURRFURRFURQld/l/vfK7lyygQAQAAAAASUVORK5CYII=\n",
       "text": [
        "<matplotlib.figure.Figure at 0x7f5d4ee6a350>"
       ]
      }
     ],
     "prompt_number": 27
    },
    {
     "cell_type": "heading",
     "level": 4,
     "metadata": {},
     "source": [
      "Applications of stationary methods"
     ]
    },
    {
     "cell_type": "markdown",
     "metadata": {},
     "source": [
      "Stationary methods are of limited use of their own as they tend to converge very slowly. For matrices that they do work well for, e.g. mass matrix, there are other iterative methods that are faster.\n",
      "\n",
      "Stationary methods are however very useful in combination with other methods, e.g. as preconditioners in more sophisticated iterative methods and as 'smoothers' in multigrid methods."
     ]
    },
    {
     "cell_type": "heading",
     "level": 3,
     "metadata": {},
     "source": [
      "Conjugate gradient method for $\\boldsymbol{A} \\boldsymbol{x} = \\boldsymbol{b}$"
     ]
    },
    {
     "cell_type": "markdown",
     "metadata": {},
     "source": [
      "We now look at one of the most important algorithms for solving $\\boldsymbol{A} \\boldsymbol{x} = \\boldsymbol{b}$, the conjugate gradient (CG) method. The CG method is applicable to symmetric positive-definite (SPD) matrices.\n",
      "\n",
      "The CG method is technically a direct method since in exact arithmetic is solves an $n \\times n$ system in $k$ iterations, where $k$ is the number of distinct eigenvalues of $\\boldsymbol{A}$. In the worst case (all eigenvalues are distinct) it requires $n$ iterations.\n",
      "\n",
      "In practice, the CG method is used as an iterative method to find approximate solutions. If solving an $n \\times n$ system required $n$ steps it would generally not be competitive with other methods, and round-off error can spoil the party. \n",
      "\n",
      "The error in the CG method decreases monotonically in the energy norm, i.e. if $\\boldsymbol{x}$ is the exact solution then:\n",
      "\n",
      "$$\n",
      "(\\boldsymbol{x} - \\boldsymbol{x}_{k+1})^{T} \\boldsymbol{A} (\\boldsymbol{x} - \\boldsymbol{x}_{k+1}) < \n",
      "(\\boldsymbol{x} - \\boldsymbol{x}_{k})^{T} \\boldsymbol{A} (\\boldsymbol{x} - \\boldsymbol{x}_{k}) \n",
      "$$\n",
      "\n",
      "This implies that if we stop iterating before the residual is (almost) zero, we will have a better solution than we started with.\n",
      "\n",
      "Below we create below a function for the conjugate gradient (CG) method. It will also solve the system directly so we can compare the error at each iteration (this would of course not be done in practice, but we do it here to illustrate some properties of the CG method). The function will perform a maximum of 200 iterations, but will exist sooner if the residual is very small."
     ]
    },
    {
     "cell_type": "code",
     "collapsed": false,
     "input": [
      "def cg(A):\n",
      "    \"Conjugate gradient solver\"\n",
      "    \n",
      "    # RHS vector\n",
      "    b = np.ones(A.shape[1])\n",
      "\n",
      "    # Initial guess (zero vector)\n",
      "    x0 = np.zeros(A.shape[1])\n",
      "\n",
      "    # Compute exact solution (to use in computing error at each iterate)\n",
      "    x_exact = np.linalg.solve(A, b)\n",
      "    e = x_exact - x0\n",
      "    e0_norm = np.sqrt(e.dot(A.dot(e)))\n",
      "    print(\"Initial error (A-norm): {}\".format(e.dot(A.dot(e)))) \n",
      "\n",
      "    # Convergence tolerance to exit solver\n",
      "    tolerance = 1.0e-9\n",
      "\n",
      "    # Create starting vectors\n",
      "    r0 = b - A.dot(x0)\n",
      "    r0_norm = np.linalg.norm(r0)\n",
      "    p0 = r0.copy()\n",
      "\n",
<<<<<<< HEAD
      "# Store and plot relative residual\n",
      "Conj = []\n",
      "\n",
      "# Start iterations    \n",
      "for k in range(200):\n",
      "    print(\"Step: {}\".format(k))\n",
=======
      "    # Start iterations    \n",
      "    for k in range(200):\n",
      "        print(\"Step: {}\".format(k))\n",
>>>>>>> upstream/master
      "\n",
      "        alpha = r0.dot(r0)/(p0.dot(A.dot(p0)))\n",
      "        x1 = x0 + alpha*p0\n",
      "        r1 = r0 - alpha*A.dot(p0)\n",
      "\n",
      "        # Compute error in x (this is for studying the algorithm, and of \n",
      "        # course would not be done in practice)\n",
      "        e = x_exact - x1\n",
      "        e_norm = np.sqrt(e.dot(A.dot(e)))\n",
      "        print(\"  Relative error in x (A-norm): {}\".format(e_norm/e0_norm)) \n",
      "    \n",
<<<<<<< HEAD
      "    # Compute norm of residual and check for converge\n",
      "    r_norm = np.linalg.norm(r1) \n",
      "    Conj.extend([r_norm/r0_norm])\n",
      "    print(\"  Relative residual (l2-norm):  {}\".format(Conj[k]))\n",
      "    if r_norm < tolerance:\n",
      "        break\n",
      "\n",
      "    beta = r1.dot(r1)/r0.dot(r0)\n",
      "    p1 = r1 + beta*p0    \n",
=======
      "        # Compute norm of residual and check for converge\n",
      "        r_norm = np.linalg.norm(r1) \n",
      "        print(\"  Relative residual (l2-norm):  {}\".format(r_norm/r0_norm)) \n",
      "        if r_norm < tolerance:\n",
      "            break\n",
      "\n",
      "        beta = r1.dot(r1)/r0.dot(r0)\n",
      "        p1 = r1 + beta*p0    \n",
>>>>>>> upstream/master
      "    \n",
      "        # Update for next step\n",
      "        p0, r0, x0 = p1, r1, x1"
     ],
     "language": "python",
     "metadata": {},
     "outputs": [],
     "prompt_number": 16
    },
    {
     "cell_type": "markdown",
     "metadata": {},
     "source": [
      "Below we solve the $50 \\times 50$ stiffness matrix problem with the conjugate gradient method. The iterations terminate once the residual drops below a specified threshold. The solver prints at each iteration the relative error in the solution in the $\\boldsymbol{A}$-norm and the relative residual in the $l_{2}$ norm."
     ]
    },
    {
     "cell_type": "code",
     "collapsed": false,
     "input": [
      "cg(create_stiffness_matrix(50))"
     ],
     "language": "python",
     "metadata": {},
     "outputs": [
      {
       "output_type": "stream",
       "stream": "stdout",
       "text": [
        "Initial error (A-norm): 42925.0\n",
        "Step: 0\n",
        "  Relative error in x (A-norm): 0.970442621576\n",
        "  Relative residual (l2-norm):  7.0\n",
        "Step: 1\n",
        "  Relative error in x (A-norm): 0.941182294682\n",
        "  Relative residual (l2-norm):  6.85857127979\n",
        "Step: 2\n",
        "  Relative error in x (A-norm): 0.912222065762\n",
        "  Relative residual (l2-norm):  6.7171422495\n",
        "Step: 3\n",
        "  Relative error in x (A-norm): 0.883565076944\n",
        "  Relative residual (l2-norm):  6.57571288911\n",
        "Step: 4\n",
        "  Relative error in x (A-norm): 0.855214571161\n",
        "  Relative residual (l2-norm):  6.43428317686\n",
        "Step: 5\n",
        "  Relative error in x (A-norm): 0.827173897654\n",
        "  Relative residual (l2-norm):  6.29285308902\n",
        "Step: 6\n",
        "  Relative error in x (A-norm): 0.799446517913\n",
        "  Relative residual (l2-norm):  6.15142259969\n",
        "Step: 7\n",
        "  Relative error in x (A-norm): 0.772036012088\n",
        "  Relative residual (l2-norm):  6.00999168053\n",
        "Step: 8\n",
        "  Relative error in x (A-norm): 0.744946085927\n",
        "  Relative residual (l2-norm):  5.86856030045\n",
        "Step: 9\n",
        "  Relative error in x (A-norm): 0.718180578295\n",
        "  Relative residual (l2-norm):  5.72712842531\n",
        "Step: 10\n",
        "  Relative error in x (A-norm): 0.691743469339\n",
        "  Relative residual (l2-norm):  5.58569601751\n",
        "Step: 11\n",
        "  Relative error in x (A-norm): 0.665638889371\n",
        "  Relative residual (l2-norm):  5.44426303553\n",
        "Step: 12\n",
        "  Relative error in x (A-norm): 0.639871128551\n",
        "  Relative residual (l2-norm):  5.30282943343\n",
        "Step: 13\n",
        "  Relative error in x (A-norm): 0.614444647475\n",
        "  Relative residual (l2-norm):  5.16139516023\n",
        "Step: 14\n",
        "  Relative error in x (A-norm): 0.589364088761\n",
        "  Relative residual (l2-norm):  5.0199601592\n",
        "Step: 15\n",
        "  Relative error in x (A-norm): 0.564634289774\n",
        "  Relative residual (l2-norm):  4.87852436706\n",
        "Step: 16\n",
        "  Relative error in x (A-norm): 0.540260296634\n",
        "  Relative residual (l2-norm):  4.73708771293\n",
        "Step: 17\n",
        "  Relative error in x (A-norm): 0.516247379672\n",
        "  Relative residual (l2-norm):  4.59565011723\n",
        "Step: 18\n",
        "  Relative error in x (A-norm): 0.492601050538\n",
        "  Relative residual (l2-norm):  4.45421149026\n",
        "Step: 19\n",
        "  Relative error in x (A-norm): 0.469327081196\n",
        "  Relative residual (l2-norm):  4.31277173057\n",
        "Step: 20\n",
        "  Relative error in x (A-norm): 0.446431525076\n",
        "  Relative residual (l2-norm):  4.17133072292\n",
        "Step: 21\n",
        "  Relative error in x (A-norm): 0.423920740716\n",
        "  Relative residual (l2-norm):  4.02988833592\n",
        "Step: 22\n",
        "  Relative error in x (A-norm): 0.40180141828\n",
        "  Relative residual (l2-norm):  3.88844441904\n",
        "Step: 23\n",
        "  Relative error in x (A-norm): 0.380080609419\n",
        "  Relative residual (l2-norm):  3.74699879904\n",
        "Step: 24\n",
        "  Relative error in x (A-norm): 0.35876576103\n",
        "  Relative residual (l2-norm):  3.60555127546\n",
        "Step: 25\n",
        "  Relative error in x (A-norm): 0.337864753607\n",
        "  Relative residual (l2-norm):  3.46410161514\n",
        "Step: 26\n",
        "  Relative error in x (A-norm): 0.31738594501\n",
        "  Relative residual (l2-norm):  3.32264954517\n",
        "Step: 27\n",
        "  Relative error in x (A-norm): 0.297338220672\n",
        "  Relative residual (l2-norm):  3.18119474412\n",
        "Step: 28\n",
        "  Relative error in x (A-norm): 0.277731051528\n",
        "  Relative residual (l2-norm):  3.03973683071\n",
        "Step: 29\n",
        "  Relative error in x (A-norm): 0.258574561253\n",
        "  Relative residual (l2-norm):  2.89827534924\n",
        "Step: 30\n",
        "  Relative error in x (A-norm): 0.239879604824\n",
        "  Relative residual (l2-norm):  2.75680975042\n",
        "Step: 31\n",
        "  Relative error in x (A-norm): 0.221657860989\n",
        "  Relative residual (l2-norm):  2.61533936612\n",
        "Step: 32\n",
        "  Relative error in x (A-norm): 0.203921941968\n",
        "  Relative residual (l2-norm):  2.47386337537\n",
        "Step: 33\n",
        "  Relative error in x (A-norm): 0.186685524743\n",
        "  Relative residual (l2-norm):  2.33238075794\n",
        "Step: 34\n",
        "  Relative error in x (A-norm): 0.169963509736\n",
        "  Relative residual (l2-norm):  2.19089023002\n",
        "Step: 35\n",
        "  Relative error in x (A-norm): 0.153772214659\n",
        "  Relative residual (l2-norm):  2.04939015319\n",
        "Step: 36\n",
        "  Relative error in x (A-norm): 0.138129614247\n",
        "  Relative residual (l2-norm):  1.90787840283\n",
        "Step: 37\n",
        "  Relative error in x (A-norm): 0.123055640828\n",
        "  Relative residual (l2-norm):  1.76635217327\n",
        "Step: 38\n",
        "  Relative error in x (A-norm): 0.108572567114\n",
        "  Relative residual (l2-norm):  1.62480768093\n",
        "Step: 39\n",
        "  Relative error in x (A-norm): 0.0947055025188\n",
        "  Relative residual (l2-norm):  1.48323969742\n",
        "Step: 40\n",
        "  Relative error in x (A-norm): 0.0814830502507\n",
        "  Relative residual (l2-norm):  1.3416407865\n",
        "Step: 41\n",
        "  Relative error in x (A-norm): 0.0689381987546\n",
        "  Relative residual (l2-norm):  1.2\n",
        "Step: 42\n",
        "  Relative error in x (A-norm): 0.0571095668067\n",
        "  Relative residual (l2-norm):  1.05830052443\n",
        "Step: 43\n",
        "  Relative error in x (A-norm): 0.0460432047489\n",
        "  Relative residual (l2-norm):  0.916515138991\n",
        "Step: 44\n",
        "  Relative error in x (A-norm): 0.0357953153506\n",
        "  Relative residual (l2-norm):  0.774596669241\n",
        "Step: 45\n",
        "  Relative error in x (A-norm): 0.0264365924195\n",
        "  Relative residual (l2-norm):  0.632455532034\n",
        "Step: 46\n",
        "  Relative error in x (A-norm): 0.0180596307295\n",
        "  Relative residual (l2-norm):  0.489897948557\n",
        "Step: 47\n",
        "  Relative error in x (A-norm): 0.0107926936609\n",
        "  Relative residual (l2-norm):  0.346410161514\n",
        "Step: 48\n",
        "  Relative error in x (A-norm): 0.00482663933724\n",
        "  Relative residual (l2-norm):  0.2\n",
        "Step: 49\n",
        "  Relative error in x (A-norm): 0.0\n",
        "  Relative residual (l2-norm):  0.0\n"
       ]
      }
     ],
<<<<<<< HEAD
     "prompt_number": 28
    },
    {
     "cell_type": "code",
     "collapsed": false,
     "input": [
      "# Plot graph\n",
      "k = list(range(1,len(Conj)+1))\n",
      "\n",
      "plt.grid()\n",
      "plt.ylabel(\"Relative Norm of Residual\")\n",
      "plt.xlabel(\"Number of Iterations\")\n",
      "plt.plot(k, Conj,'-g')"
     ],
     "language": "python",
     "metadata": {},
     "outputs": [
      {
       "metadata": {},
       "output_type": "pyout",
       "prompt_number": 29,
       "text": [
        "[<matplotlib.lines.Line2D at 0x7f5d4db826d0>]"
       ]
      },
      {
       "metadata": {},
       "output_type": "display_data",
       "png": "iVBORw0KGgoAAAANSUhEUgAAAXsAAAEPCAYAAACjjWTcAAAABHNCSVQICAgIfAhkiAAAAAlwSFlz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\nAe84gS+DsJjBAAAAAElFTkSuQmCC\n",
       "text": [
        "<matplotlib.figure.Figure at 0x7f5d4db96510>"
       ]
      }
     ],
     "prompt_number": 29
=======
     "prompt_number": 17
>>>>>>> upstream/master
    },
    {
     "cell_type": "markdown",
     "metadata": {},
     "source": [
      "We see that, as expected, the CG method for an $n \\times n$ matrix solves the problem in $n$ iterations. However if, if we were satisfied with a less accurate solution we could have terminated the iterations sooner.\n",
      "\n",
      "Note that the reduction of the error in $\\boldsymbol{A}$-norm ($\\sqrt{\\boldsymbol{e}^{T}\\boldsymbol{A}\\boldsymbol{e}}$) decreases monotonically. The $l_{2}$-norm of the residual $\\boldsymbol{r}_{k} = \\boldsymbol{b} - \\boldsymbol{A}\\boldsymbol{x}_{k}$ increases in the first step (the relative norm of the residual is greater than one), and then starts to decrease. The monotonic convergence in the $\\boldsymbol{A}$-norm is what we expect from analysis of the CG method.\n",
      "\n",
      "We now test for the $50 \\times 50$ mass matrix:"
     ]
    },
    {
     "cell_type": "code",
     "collapsed": false,
     "input": [
      "cg(create_mass_matrix(50))"
     ],
     "language": "python",
     "metadata": {},
     "outputs": [
      {
       "output_type": "stream",
       "stream": "stdout",
       "text": [
        "Initial error (A-norm): 52.7320508076\n",
        "Step: 0\n",
        "  Relative error in x (A-norm): 0.180164498903\n",
        "  Relative residual (l2-norm):  0.0999791731748\n",
        "Step: 1\n",
        "  Relative error in x (A-norm): 0.0655801444867\n",
        "  Relative residual (l2-norm):  0.0494624847346\n",
        "Step: 2\n",
        "  Relative error in x (A-norm): 0.0181218413345\n",
        "  Relative residual (l2-norm):  0.014103099535\n",
        "Step: 3\n",
        "  Relative error in x (A-norm): 0.00486413480067\n",
        "  Relative residual (l2-norm):  0.00379420745988\n",
        "Step: 4\n",
        "  Relative error in x (A-norm): 0.00130270525748\n",
        "  Relative residual (l2-norm):  0.00101631051485\n",
        "Step: 5\n",
        "  Relative error in x (A-norm): 0.000348810973547\n",
        "  Relative residual (l2-norm):  0.000272123803861\n",
        "Step: 6\n",
        "  Relative error in x (A-norm): 9.33889212289e-05\n",
        "  Relative residual (l2-norm):  7.28553667103e-05\n",
        "Step: 7\n",
        "  Relative error in x (A-norm): 2.50011793073e-05\n",
        "  Relative residual (l2-norm):  1.95035769502e-05\n",
        "Step: 8\n",
        "  Relative error in x (A-norm): 6.69234993884e-06\n",
        "  Relative residual (l2-norm):  5.22056661337e-06\n",
        "Step: 9\n",
        "  Relative error in x (A-norm): 1.79118617746e-06\n",
        "  Relative residual (l2-norm):  1.39721101204e-06\n",
        "Step: 10\n",
        "  Relative error in x (A-norm): 4.79330599678e-07\n",
        "  Relative residual (l2-norm):  3.73882294155e-07\n",
        "Step: 11\n",
        "  Relative error in x (A-norm): 1.28246899349e-07\n",
        "  Relative residual (l2-norm):  1.00027664132e-07\n",
        "Step: 12\n",
        "  Relative error in x (A-norm): 3.43048895415e-08\n",
        "  Relative residual (l2-norm):  2.67544587274e-08\n",
        "Step: 13\n",
        "  Relative error in x (A-norm): 9.17351619483e-09\n",
        "  Relative residual (l2-norm):  7.15375139331e-09\n",
        "Step: 14\n",
        "  Relative error in x (A-norm): 2.45216282988e-09\n",
        "  Relative residual (l2-norm):  1.91202055509e-09\n",
        "Step: 15\n",
        "  Relative error in x (A-norm): 6.55154714902e-10\n",
        "  Relative residual (l2-norm):  5.10756758362e-10\n",
        "Step: 16\n",
        "  Relative error in x (A-norm): 1.74921088133e-10\n",
        "  Relative residual (l2-norm):  1.36336478397e-10\n"
       ]
      }
     ],
     "prompt_number": 18
    },
    {
     "cell_type": "markdown",
     "metadata": {},
     "source": [
      "The CG methods converges rapidly for the mass matrix. It has terminated for the mass matrix after just 17 iterations, fewer than the size of the matrix, and compared to the 50 for the stiffness matrix."
     ]
    },
    {
     "cell_type": "markdown",
     "metadata": {},
     "source": [
      "**Exercise:** Examine the condition number $\\kappa_{2}$ for the mass and stiffness matrices as the matrix size increases.\n",
      "\n",
      "**Exercise:** Test how the number of CG iterations changes for the mass and stiffness matrices as the matrix size is increased."
     ]
    },
    {
     "cell_type": "code",
     "collapsed": false,
     "input": [],
     "language": "python",
     "metadata": {},
     "outputs": [],
     "prompt_number": 29
    }
   ],
   "metadata": {}
  }
 ]
}