{
 "metadata": {
  "name": "",
  "signature": "sha256:44fe9328808ec919928ecd1e60f7dfc7e29f5554c32ae120d8f4d0d29f8d53df"
 },
 "nbformat": 3,
 "nbformat_minor": 0,
 "worksheets": [
  {
   "cells": [
    {
     "cell_type": "markdown",
     "metadata": {},
     "source": [
      "# Mathematical Methods (3M1)\n",
      "\n",
      "This these notebooks are in support of the course Mathematical Methods (3M1) at the Department of Engineering, University of Cambridge. A number the graphs and images in the lecture notes were created with the notebooks.\n",
      "\n",
      "The notebooks are under development. Please report any errors to  Garth N. Wells <gnw20@cam.ac.uk>.\n",
      "\n",
      "- [Vectors, matrices and norms](Fundamentals.ipynb)\n",
      "- [Interpolation and least-squares fitting](LeastSquares.ipynb)\n",
      "- [Iterative methods (under development)](IterativeMethods.ipynb)\n",
      "- [Singular value decomposition image compression (under development)](SingularValueDecomposition.ipynb)"
     ]
    }
   ],
   "metadata": {}
  }
 ]
}